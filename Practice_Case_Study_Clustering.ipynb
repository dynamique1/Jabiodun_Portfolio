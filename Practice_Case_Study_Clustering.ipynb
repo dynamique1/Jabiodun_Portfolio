{
 "cells": [
  {
   "cell_type": "markdown",
   "metadata": {
    "id": "IqkGV5pXRISd"
   },
   "source": [
    "# Practice Case Study - Clustering\n",
    "\n",
    "-----------------------------------------\n",
    "## Context\n",
    "-----------------------------------------\n",
    "\n",
    "Study of socio-economic factors is foundational to understanding and shaping the future of societies and hence of extreme interest to various government and non-government institutions. While GDP is one of the most popular measure used on popular vernacular, it is not the only measure of the growth and the state of an economy. This case study aims to deep dive into one such dataset that contains various socio-economic attributes for countries around the world.\n",
    "\n",
    "-----------------------------------------\n",
    "## Objective\n",
    "-----------------------------------------\n",
    "\n",
    "To identify if there exist various cluster of countries that are more similar to each other in terms of certain socio-economic factors\n",
    "\n",
    "------------------------\n",
    "## Data Dictionary\n",
    "-------------------------\n",
    "The data has the following attributes:\n",
    "- country: Name of the country\n",
    "- child_mort: Death of children under 5 years of age per 1000 live births\n",
    "- exports - Exports in % age of the GDP per capita\n",
    "- health - The total spend on health given as % of GDP\n",
    "- imports - The value of imports given as % of GDP per capita\n",
    "- income - The net income per person\n",
    "- inflation - Inflation rate %\n",
    "- life_expec - Average life expectancy in years\n",
    "- total_fer - The fertility rate - Average children per woman in the country\n",
    "- gdpp - GDP per capita\n",
    "\n",
    "In the dataset, we will not do clustering on the gdp and would rather try to understand the variation of other factors with GDP across the groups that we formed."
   ]
  },
  {
   "cell_type": "markdown",
   "metadata": {
    "id": "5Fxb-LZvR_ne"
   },
   "source": [
    "## Importing libraries and overview of the dataset"
   ]
  },
  {
   "cell_type": "code",
   "execution_count": 1,
   "metadata": {
    "id": "hz5mbOa4lfvt"
   },
   "outputs": [],
   "source": [
    "#Import all the necessary packages\n",
    "\n",
    "import pandas as pd\n",
    "import numpy as np\n",
    "\n",
    "import matplotlib.pylab as plt\n",
    "import seaborn as sns\n",
    "\n",
    "#to scale the data using z-score \n",
    "from sklearn.preprocessing import StandardScaler\n",
    "\n",
    "#importing clustering algorithms\n",
    "from sklearn.cluster import KMeans\n",
    "from sklearn.mixture import GaussianMixture\n",
    "\n",
    "#Silhouette score\n",
    "from sklearn.metrics import silhouette_score\n",
    "\n",
    "import warnings\n",
    "warnings.filterwarnings(\"ignore\")"
   ]
  },
  {
   "cell_type": "markdown",
   "metadata": {
    "id": "3LI0fZb5lfvu"
   },
   "source": [
    "#### Loading data"
   ]
  },
  {
   "cell_type": "code",
   "execution_count": 2,
   "metadata": {
    "colab": {
     "base_uri": "https://localhost:8080/",
     "height": 204
    },
    "id": "9ne1HPNyRGAW",
    "outputId": "c0aa3888-90eb-4ac9-b36b-06649780d640"
   },
   "outputs": [
    {
     "data": {
      "text/html": [
       "<div>\n",
       "<style scoped>\n",
       "    .dataframe tbody tr th:only-of-type {\n",
       "        vertical-align: middle;\n",
       "    }\n",
       "\n",
       "    .dataframe tbody tr th {\n",
       "        vertical-align: top;\n",
       "    }\n",
       "\n",
       "    .dataframe thead th {\n",
       "        text-align: right;\n",
       "    }\n",
       "</style>\n",
       "<table border=\"1\" class=\"dataframe\">\n",
       "  <thead>\n",
       "    <tr style=\"text-align: right;\">\n",
       "      <th></th>\n",
       "      <th>country</th>\n",
       "      <th>child_mort</th>\n",
       "      <th>exports</th>\n",
       "      <th>health</th>\n",
       "      <th>imports</th>\n",
       "      <th>income</th>\n",
       "      <th>inflation</th>\n",
       "      <th>life_expec</th>\n",
       "      <th>total_fer</th>\n",
       "      <th>gdpp</th>\n",
       "    </tr>\n",
       "  </thead>\n",
       "  <tbody>\n",
       "    <tr>\n",
       "      <th>0</th>\n",
       "      <td>Afghanistan</td>\n",
       "      <td>90.2</td>\n",
       "      <td>10.0</td>\n",
       "      <td>7.58</td>\n",
       "      <td>44.9</td>\n",
       "      <td>1610</td>\n",
       "      <td>9.44</td>\n",
       "      <td>56.2</td>\n",
       "      <td>5.82</td>\n",
       "      <td>553</td>\n",
       "    </tr>\n",
       "    <tr>\n",
       "      <th>1</th>\n",
       "      <td>Albania</td>\n",
       "      <td>16.6</td>\n",
       "      <td>28.0</td>\n",
       "      <td>6.55</td>\n",
       "      <td>48.6</td>\n",
       "      <td>9930</td>\n",
       "      <td>4.49</td>\n",
       "      <td>76.3</td>\n",
       "      <td>1.65</td>\n",
       "      <td>4090</td>\n",
       "    </tr>\n",
       "    <tr>\n",
       "      <th>2</th>\n",
       "      <td>Algeria</td>\n",
       "      <td>27.3</td>\n",
       "      <td>38.4</td>\n",
       "      <td>4.17</td>\n",
       "      <td>31.4</td>\n",
       "      <td>12900</td>\n",
       "      <td>16.10</td>\n",
       "      <td>76.5</td>\n",
       "      <td>2.89</td>\n",
       "      <td>4460</td>\n",
       "    </tr>\n",
       "    <tr>\n",
       "      <th>3</th>\n",
       "      <td>Angola</td>\n",
       "      <td>119.0</td>\n",
       "      <td>62.3</td>\n",
       "      <td>2.85</td>\n",
       "      <td>42.9</td>\n",
       "      <td>5900</td>\n",
       "      <td>22.40</td>\n",
       "      <td>60.1</td>\n",
       "      <td>6.16</td>\n",
       "      <td>3530</td>\n",
       "    </tr>\n",
       "    <tr>\n",
       "      <th>4</th>\n",
       "      <td>Antigua and Barbuda</td>\n",
       "      <td>10.3</td>\n",
       "      <td>45.5</td>\n",
       "      <td>6.03</td>\n",
       "      <td>58.9</td>\n",
       "      <td>19100</td>\n",
       "      <td>1.44</td>\n",
       "      <td>76.8</td>\n",
       "      <td>2.13</td>\n",
       "      <td>12200</td>\n",
       "    </tr>\n",
       "  </tbody>\n",
       "</table>\n",
       "</div>"
      ],
      "text/plain": [
       "               country  child_mort  exports  health  imports  income  \\\n",
       "0          Afghanistan        90.2     10.0    7.58     44.9    1610   \n",
       "1              Albania        16.6     28.0    6.55     48.6    9930   \n",
       "2              Algeria        27.3     38.4    4.17     31.4   12900   \n",
       "3               Angola       119.0     62.3    2.85     42.9    5900   \n",
       "4  Antigua and Barbuda        10.3     45.5    6.03     58.9   19100   \n",
       "\n",
       "   inflation  life_expec  total_fer   gdpp  \n",
       "0       9.44        56.2       5.82    553  \n",
       "1       4.49        76.3       1.65   4090  \n",
       "2      16.10        76.5       2.89   4460  \n",
       "3      22.40        60.1       6.16   3530  \n",
       "4       1.44        76.8       2.13  12200  "
      ]
     },
     "execution_count": 2,
     "metadata": {},
     "output_type": "execute_result"
    }
   ],
   "source": [
    "data = pd.read_csv(\"Country-data.csv\")\n",
    "data.head()"
   ]
  },
  {
   "cell_type": "markdown",
   "metadata": {
    "id": "Cs6ozDQhlfvw"
   },
   "source": [
    "#### Check the info of the data"
   ]
  },
  {
   "cell_type": "code",
   "execution_count": 3,
   "metadata": {
    "colab": {
     "base_uri": "https://localhost:8080/"
    },
    "id": "7YurBSmKtgoA",
    "outputId": "6ab8c6cf-8fe6-4cc2-e023-347fde0b2599"
   },
   "outputs": [
    {
     "name": "stdout",
     "output_type": "stream",
     "text": [
      "<class 'pandas.core.frame.DataFrame'>\n",
      "RangeIndex: 167 entries, 0 to 166\n",
      "Data columns (total 10 columns):\n",
      " #   Column      Non-Null Count  Dtype  \n",
      "---  ------      --------------  -----  \n",
      " 0   country     167 non-null    object \n",
      " 1   child_mort  167 non-null    float64\n",
      " 2   exports     167 non-null    float64\n",
      " 3   health      167 non-null    float64\n",
      " 4   imports     167 non-null    float64\n",
      " 5   income      167 non-null    int64  \n",
      " 6   inflation   167 non-null    float64\n",
      " 7   life_expec  167 non-null    float64\n",
      " 8   total_fer   167 non-null    float64\n",
      " 9   gdpp        167 non-null    int64  \n",
      "dtypes: float64(7), int64(2), object(1)\n",
      "memory usage: 13.2+ KB\n"
     ]
    }
   ],
   "source": [
    "data.info()"
   ]
  },
  {
   "cell_type": "code",
   "execution_count": 3,
   "metadata": {},
   "outputs": [
    {
     "data": {
      "text/plain": [
       "167"
      ]
     },
     "execution_count": 3,
     "metadata": {},
     "output_type": "execute_result"
    }
   ],
   "source": [
    "data.country.nunique()"
   ]
  },
  {
   "cell_type": "markdown",
   "metadata": {
    "id": "e6jCsXwJYy5x"
   },
   "source": [
    "**Observations:**\n",
    " \n",
    " - There are 167 observations and 10 columns in the data.\n",
    " - All columns have 167 non-null values i.e. there are no missing values.\n",
    " - All the columns except the country name are numerical.\n",
    " - Everything looks great, lets move ahead to check duplicates."
   ]
  },
  {
   "cell_type": "markdown",
   "metadata": {
    "id": "t2k0neVTlfvx"
   },
   "source": [
    "#### Check duplicate entries"
   ]
  },
  {
   "cell_type": "code",
   "execution_count": 4,
   "metadata": {
    "colab": {
     "base_uri": "https://localhost:8080/",
     "height": 49
    },
    "id": "YhCzI79Ylfvx",
    "outputId": "7b25f09a-c7f5-4ddf-eaac-e5bdc34fcd8b"
   },
   "outputs": [
    {
     "data": {
      "text/html": [
       "<div>\n",
       "<style scoped>\n",
       "    .dataframe tbody tr th:only-of-type {\n",
       "        vertical-align: middle;\n",
       "    }\n",
       "\n",
       "    .dataframe tbody tr th {\n",
       "        vertical-align: top;\n",
       "    }\n",
       "\n",
       "    .dataframe thead th {\n",
       "        text-align: right;\n",
       "    }\n",
       "</style>\n",
       "<table border=\"1\" class=\"dataframe\">\n",
       "  <thead>\n",
       "    <tr style=\"text-align: right;\">\n",
       "      <th></th>\n",
       "      <th>country</th>\n",
       "      <th>child_mort</th>\n",
       "      <th>exports</th>\n",
       "      <th>health</th>\n",
       "      <th>imports</th>\n",
       "      <th>income</th>\n",
       "      <th>inflation</th>\n",
       "      <th>life_expec</th>\n",
       "      <th>total_fer</th>\n",
       "      <th>gdpp</th>\n",
       "    </tr>\n",
       "  </thead>\n",
       "  <tbody>\n",
       "  </tbody>\n",
       "</table>\n",
       "</div>"
      ],
      "text/plain": [
       "Empty DataFrame\n",
       "Columns: [country, child_mort, exports, health, imports, income, inflation, life_expec, total_fer, gdpp]\n",
       "Index: []"
      ]
     },
     "execution_count": 4,
     "metadata": {},
     "output_type": "execute_result"
    }
   ],
   "source": [
    "data[data.duplicated()]"
   ]
  },
  {
   "cell_type": "markdown",
   "metadata": {
    "id": "FRuEXmMBlfvx"
   },
   "source": [
    "- There are no duplicate rows in the data. That's good. "
   ]
  },
  {
   "cell_type": "markdown",
   "metadata": {
    "id": "HwmEnP-qlfvx"
   },
   "source": [
    "## Exploratory Data Analysis"
   ]
  },
  {
   "cell_type": "markdown",
   "metadata": {
    "id": "ZG4l7AH0lfvy"
   },
   "source": [
    "#### Summary Statistics"
   ]
  },
  {
   "cell_type": "code",
   "execution_count": 5,
   "metadata": {
    "colab": {
     "base_uri": "https://localhost:8080/",
     "height": 327
    },
    "id": "Hy-qXl2R9YqY",
    "outputId": "01d13d76-1c21-4b44-f6c4-b38fad4ad770"
   },
   "outputs": [
    {
     "data": {
      "text/html": [
       "<div>\n",
       "<style scoped>\n",
       "    .dataframe tbody tr th:only-of-type {\n",
       "        vertical-align: middle;\n",
       "    }\n",
       "\n",
       "    .dataframe tbody tr th {\n",
       "        vertical-align: top;\n",
       "    }\n",
       "\n",
       "    .dataframe thead th {\n",
       "        text-align: right;\n",
       "    }\n",
       "</style>\n",
       "<table border=\"1\" class=\"dataframe\">\n",
       "  <thead>\n",
       "    <tr style=\"text-align: right;\">\n",
       "      <th></th>\n",
       "      <th>count</th>\n",
       "      <th>mean</th>\n",
       "      <th>std</th>\n",
       "      <th>min</th>\n",
       "      <th>25%</th>\n",
       "      <th>50%</th>\n",
       "      <th>75%</th>\n",
       "      <th>max</th>\n",
       "    </tr>\n",
       "  </thead>\n",
       "  <tbody>\n",
       "    <tr>\n",
       "      <th>child_mort</th>\n",
       "      <td>167.0</td>\n",
       "      <td>38.270060</td>\n",
       "      <td>40.328931</td>\n",
       "      <td>2.6000</td>\n",
       "      <td>8.250</td>\n",
       "      <td>19.30</td>\n",
       "      <td>62.10</td>\n",
       "      <td>208.00</td>\n",
       "    </tr>\n",
       "    <tr>\n",
       "      <th>exports</th>\n",
       "      <td>167.0</td>\n",
       "      <td>41.108976</td>\n",
       "      <td>27.412010</td>\n",
       "      <td>0.1090</td>\n",
       "      <td>23.800</td>\n",
       "      <td>35.00</td>\n",
       "      <td>51.35</td>\n",
       "      <td>200.00</td>\n",
       "    </tr>\n",
       "    <tr>\n",
       "      <th>health</th>\n",
       "      <td>167.0</td>\n",
       "      <td>6.815689</td>\n",
       "      <td>2.746837</td>\n",
       "      <td>1.8100</td>\n",
       "      <td>4.920</td>\n",
       "      <td>6.32</td>\n",
       "      <td>8.60</td>\n",
       "      <td>17.90</td>\n",
       "    </tr>\n",
       "    <tr>\n",
       "      <th>imports</th>\n",
       "      <td>167.0</td>\n",
       "      <td>46.890215</td>\n",
       "      <td>24.209589</td>\n",
       "      <td>0.0659</td>\n",
       "      <td>30.200</td>\n",
       "      <td>43.30</td>\n",
       "      <td>58.75</td>\n",
       "      <td>174.00</td>\n",
       "    </tr>\n",
       "    <tr>\n",
       "      <th>income</th>\n",
       "      <td>167.0</td>\n",
       "      <td>17144.688623</td>\n",
       "      <td>19278.067698</td>\n",
       "      <td>609.0000</td>\n",
       "      <td>3355.000</td>\n",
       "      <td>9960.00</td>\n",
       "      <td>22800.00</td>\n",
       "      <td>125000.00</td>\n",
       "    </tr>\n",
       "    <tr>\n",
       "      <th>inflation</th>\n",
       "      <td>167.0</td>\n",
       "      <td>7.781832</td>\n",
       "      <td>10.570704</td>\n",
       "      <td>-4.2100</td>\n",
       "      <td>1.810</td>\n",
       "      <td>5.39</td>\n",
       "      <td>10.75</td>\n",
       "      <td>104.00</td>\n",
       "    </tr>\n",
       "    <tr>\n",
       "      <th>life_expec</th>\n",
       "      <td>167.0</td>\n",
       "      <td>70.555689</td>\n",
       "      <td>8.893172</td>\n",
       "      <td>32.1000</td>\n",
       "      <td>65.300</td>\n",
       "      <td>73.10</td>\n",
       "      <td>76.80</td>\n",
       "      <td>82.80</td>\n",
       "    </tr>\n",
       "    <tr>\n",
       "      <th>total_fer</th>\n",
       "      <td>167.0</td>\n",
       "      <td>2.947964</td>\n",
       "      <td>1.513848</td>\n",
       "      <td>1.1500</td>\n",
       "      <td>1.795</td>\n",
       "      <td>2.41</td>\n",
       "      <td>3.88</td>\n",
       "      <td>7.49</td>\n",
       "    </tr>\n",
       "    <tr>\n",
       "      <th>gdpp</th>\n",
       "      <td>167.0</td>\n",
       "      <td>12964.155689</td>\n",
       "      <td>18328.704809</td>\n",
       "      <td>231.0000</td>\n",
       "      <td>1330.000</td>\n",
       "      <td>4660.00</td>\n",
       "      <td>14050.00</td>\n",
       "      <td>105000.00</td>\n",
       "    </tr>\n",
       "  </tbody>\n",
       "</table>\n",
       "</div>"
      ],
      "text/plain": [
       "            count          mean           std       min       25%      50%  \\\n",
       "child_mort  167.0     38.270060     40.328931    2.6000     8.250    19.30   \n",
       "exports     167.0     41.108976     27.412010    0.1090    23.800    35.00   \n",
       "health      167.0      6.815689      2.746837    1.8100     4.920     6.32   \n",
       "imports     167.0     46.890215     24.209589    0.0659    30.200    43.30   \n",
       "income      167.0  17144.688623  19278.067698  609.0000  3355.000  9960.00   \n",
       "inflation   167.0      7.781832     10.570704   -4.2100     1.810     5.39   \n",
       "life_expec  167.0     70.555689      8.893172   32.1000    65.300    73.10   \n",
       "total_fer   167.0      2.947964      1.513848    1.1500     1.795     2.41   \n",
       "gdpp        167.0  12964.155689  18328.704809  231.0000  1330.000  4660.00   \n",
       "\n",
       "                 75%        max  \n",
       "child_mort     62.10     208.00  \n",
       "exports        51.35     200.00  \n",
       "health          8.60      17.90  \n",
       "imports        58.75     174.00  \n",
       "income      22800.00  125000.00  \n",
       "inflation      10.75     104.00  \n",
       "life_expec     76.80      82.80  \n",
       "total_fer       3.88       7.49  \n",
       "gdpp        14050.00  105000.00  "
      ]
     },
     "execution_count": 5,
     "metadata": {},
     "output_type": "execute_result"
    }
   ],
   "source": [
    "data.describe().T"
   ]
  },
  {
   "cell_type": "markdown",
   "metadata": {
    "id": "FOa6-ID-lfvy"
   },
   "source": [
    "**Observations:**\n",
    "\n",
    "- The child mortality rate has a high range from 2.6 to 208 deaths per 1000 live births. The average child mortality rate is approx 38 deaths per 1000 live births.\n",
    "- Similarly, the exports and imports have a high range of values. The maximum values for exports and imports is 200% and 174% of GDP respectively. This can happen if a country's  export or import industry exceeds their its domestic economy.\n",
    "- The total spend on heath is very less as compared to exports and imports for majority of counties. The average spend on health is approx 6.8% of GDP.\n",
    "- The average life expectancy is approx 70 years but the minimum value is just 32 years.\n",
    "- Other variables like gdpp, inflation, and income also shows a high variability which can be expected as they can be very different for different countries.\n",
    "- Overall, % expenditure on health, average life expectancy seem to have lesser standard deviation which reflects less variability across countries. All other variables seem to have very high spread across countries. These are the variables that might help us identify the clusters, if they exist. "
   ]
  },
  {
   "cell_type": "markdown",
   "metadata": {
    "id": "J2KJledAK2lu"
   },
   "source": [
    "**Let's check the correlation among the variables**"
   ]
  },
  {
   "cell_type": "code",
   "execution_count": 6,
   "metadata": {
    "colab": {
     "base_uri": "https://localhost:8080/",
     "height": 596
    },
    "id": "u9WlFCbIENcr",
    "outputId": "393417b0-b5d9-4909-ca2b-e56b20ad2ba9"
   },
   "outputs": [
    {
     "data": {
      "image/png": "[encoded data removed]",
      "text/plain": [
       "<Figure size 432x432 with 2 Axes>"
      ]
     },
     "metadata": {
      "needs_background": "light"
     },
     "output_type": "display_data"
    }
   ],
   "source": [
    "plt.figure(figsize  = (6,6))\n",
    "sns.heatmap(data.corr(), annot = True, cmap=\"coolwarm\", vmax=1, vmin=-1)\n",
    "plt.show()"
   ]
  },
  {
   "cell_type": "markdown",
   "metadata": {
    "id": "w7X5k0OFZYxD"
   },
   "source": [
    "**Observations:**\n",
    "\n",
    "- There is a strong positive correlation between gdpp and income. This makes sense. \n",
    "- The life expectancy is positively correlated with gdpp. This indicates that people live longer in richer countries. \n",
    "- There is a strong negative correlation between life expectancy and child mortality. This is understandable.\n",
    "- The child mortality has a strong positive correlation with fertility rate. This indicates that increasing population leads to higher child mortality."
   ]
  },
  {
   "cell_type": "markdown",
   "metadata": {
    "id": "TOHYHdrwSi21"
   },
   "source": [
    "## Scaling the data"
   ]
  },
  {
   "cell_type": "markdown",
   "metadata": {
    "id": "DVeXml96lEer"
   },
   "source": [
    "- Clustering algorithms are distance based algorithms and all distance based algorithms are affected by the scale of the variables. Therefore, we will scale the data before applying clustering algorithms.\n",
    "- We will drop the variables `'country'` and `'gdpp'` before scaling the data as we would not use these two variables for clustering the countries."
   ]
  },
  {
   "cell_type": "code",
   "execution_count": 7,
   "metadata": {
    "id": "U2x8-0fAlfv0"
   },
   "outputs": [],
   "source": [
    "data_new = data.set_index([\"country\"])"
   ]
  },
  {
   "cell_type": "code",
   "execution_count": 8,
   "metadata": {},
   "outputs": [
    {
     "data": {
      "text/html": [
       "<div>\n",
       "<style scoped>\n",
       "    .dataframe tbody tr th:only-of-type {\n",
       "        vertical-align: middle;\n",
       "    }\n",
       "\n",
       "    .dataframe tbody tr th {\n",
       "        vertical-align: top;\n",
       "    }\n",
       "\n",
       "    .dataframe thead th {\n",
       "        text-align: right;\n",
       "    }\n",
       "</style>\n",
       "<table border=\"1\" class=\"dataframe\">\n",
       "  <thead>\n",
       "    <tr style=\"text-align: right;\">\n",
       "      <th></th>\n",
       "      <th>child_mort</th>\n",
       "      <th>exports</th>\n",
       "      <th>health</th>\n",
       "      <th>imports</th>\n",
       "      <th>income</th>\n",
       "      <th>inflation</th>\n",
       "      <th>life_expec</th>\n",
       "      <th>total_fer</th>\n",
       "      <th>gdpp</th>\n",
       "    </tr>\n",
       "    <tr>\n",
       "      <th>country</th>\n",
       "      <th></th>\n",
       "      <th></th>\n",
       "      <th></th>\n",
       "      <th></th>\n",
       "      <th></th>\n",
       "      <th></th>\n",
       "      <th></th>\n",
       "      <th></th>\n",
       "      <th></th>\n",
       "    </tr>\n",
       "  </thead>\n",
       "  <tbody>\n",
       "    <tr>\n",
       "      <th>Afghanistan</th>\n",
       "      <td>90.2</td>\n",
       "      <td>10.0</td>\n",
       "      <td>7.58</td>\n",
       "      <td>44.9</td>\n",
       "      <td>1610</td>\n",
       "      <td>9.44</td>\n",
       "      <td>56.2</td>\n",
       "      <td>5.82</td>\n",
       "      <td>553</td>\n",
       "    </tr>\n",
       "    <tr>\n",
       "      <th>Albania</th>\n",
       "      <td>16.6</td>\n",
       "      <td>28.0</td>\n",
       "      <td>6.55</td>\n",
       "      <td>48.6</td>\n",
       "      <td>9930</td>\n",
       "      <td>4.49</td>\n",
       "      <td>76.3</td>\n",
       "      <td>1.65</td>\n",
       "      <td>4090</td>\n",
       "    </tr>\n",
       "    <tr>\n",
       "      <th>Algeria</th>\n",
       "      <td>27.3</td>\n",
       "      <td>38.4</td>\n",
       "      <td>4.17</td>\n",
       "      <td>31.4</td>\n",
       "      <td>12900</td>\n",
       "      <td>16.10</td>\n",
       "      <td>76.5</td>\n",
       "      <td>2.89</td>\n",
       "      <td>4460</td>\n",
       "    </tr>\n",
       "    <tr>\n",
       "      <th>Angola</th>\n",
       "      <td>119.0</td>\n",
       "      <td>62.3</td>\n",
       "      <td>2.85</td>\n",
       "      <td>42.9</td>\n",
       "      <td>5900</td>\n",
       "      <td>22.40</td>\n",
       "      <td>60.1</td>\n",
       "      <td>6.16</td>\n",
       "      <td>3530</td>\n",
       "    </tr>\n",
       "    <tr>\n",
       "      <th>Antigua and Barbuda</th>\n",
       "      <td>10.3</td>\n",
       "      <td>45.5</td>\n",
       "      <td>6.03</td>\n",
       "      <td>58.9</td>\n",
       "      <td>19100</td>\n",
       "      <td>1.44</td>\n",
       "      <td>76.8</td>\n",
       "      <td>2.13</td>\n",
       "      <td>12200</td>\n",
       "    </tr>\n",
       "    <tr>\n",
       "      <th>...</th>\n",
       "      <td>...</td>\n",
       "      <td>...</td>\n",
       "      <td>...</td>\n",
       "      <td>...</td>\n",
       "      <td>...</td>\n",
       "      <td>...</td>\n",
       "      <td>...</td>\n",
       "      <td>...</td>\n",
       "      <td>...</td>\n",
       "    </tr>\n",
       "    <tr>\n",
       "      <th>Vanuatu</th>\n",
       "      <td>29.2</td>\n",
       "      <td>46.6</td>\n",
       "      <td>5.25</td>\n",
       "      <td>52.7</td>\n",
       "      <td>2950</td>\n",
       "      <td>2.62</td>\n",
       "      <td>63.0</td>\n",
       "      <td>3.50</td>\n",
       "      <td>2970</td>\n",
       "    </tr>\n",
       "    <tr>\n",
       "      <th>Venezuela</th>\n",
       "      <td>17.1</td>\n",
       "      <td>28.5</td>\n",
       "      <td>4.91</td>\n",
       "      <td>17.6</td>\n",
       "      <td>16500</td>\n",
       "      <td>45.90</td>\n",
       "      <td>75.4</td>\n",
       "      <td>2.47</td>\n",
       "      <td>13500</td>\n",
       "    </tr>\n",
       "    <tr>\n",
       "      <th>Vietnam</th>\n",
       "      <td>23.3</td>\n",
       "      <td>72.0</td>\n",
       "      <td>6.84</td>\n",
       "      <td>80.2</td>\n",
       "      <td>4490</td>\n",
       "      <td>12.10</td>\n",
       "      <td>73.1</td>\n",
       "      <td>1.95</td>\n",
       "      <td>1310</td>\n",
       "    </tr>\n",
       "    <tr>\n",
       "      <th>Yemen</th>\n",
       "      <td>56.3</td>\n",
       "      <td>30.0</td>\n",
       "      <td>5.18</td>\n",
       "      <td>34.4</td>\n",
       "      <td>4480</td>\n",
       "      <td>23.60</td>\n",
       "      <td>67.5</td>\n",
       "      <td>4.67</td>\n",
       "      <td>1310</td>\n",
       "    </tr>\n",
       "    <tr>\n",
       "      <th>Zambia</th>\n",
       "      <td>83.1</td>\n",
       "      <td>37.0</td>\n",
       "      <td>5.89</td>\n",
       "      <td>30.9</td>\n",
       "      <td>3280</td>\n",
       "      <td>14.00</td>\n",
       "      <td>52.0</td>\n",
       "      <td>5.40</td>\n",
       "      <td>1460</td>\n",
       "    </tr>\n",
       "  </tbody>\n",
       "</table>\n",
       "<p>167 rows × 9 columns</p>\n",
       "</div>"
      ],
      "text/plain": [
       "                     child_mort  exports  health  imports  income  inflation  \\\n",
       "country                                                                        \n",
       "Afghanistan                90.2     10.0    7.58     44.9    1610       9.44   \n",
       "Albania                    16.6     28.0    6.55     48.6    9930       4.49   \n",
       "Algeria                    27.3     38.4    4.17     31.4   12900      16.10   \n",
       "Angola                    119.0     62.3    2.85     42.9    5900      22.40   \n",
       "Antigua and Barbuda        10.3     45.5    6.03     58.9   19100       1.44   \n",
       "...                         ...      ...     ...      ...     ...        ...   \n",
       "Vanuatu                    29.2     46.6    5.25     52.7    2950       2.62   \n",
       "Venezuela                  17.1     28.5    4.91     17.6   16500      45.90   \n",
       "Vietnam                    23.3     72.0    6.84     80.2    4490      12.10   \n",
       "Yemen                      56.3     30.0    5.18     34.4    4480      23.60   \n",
       "Zambia                     83.1     37.0    5.89     30.9    3280      14.00   \n",
       "\n",
       "                     life_expec  total_fer   gdpp  \n",
       "country                                            \n",
       "Afghanistan                56.2       5.82    553  \n",
       "Albania                    76.3       1.65   4090  \n",
       "Algeria                    76.5       2.89   4460  \n",
       "Angola                     60.1       6.16   3530  \n",
       "Antigua and Barbuda        76.8       2.13  12200  \n",
       "...                         ...        ...    ...  \n",
       "Vanuatu                    63.0       3.50   2970  \n",
       "Venezuela                  75.4       2.47  13500  \n",
       "Vietnam                    73.1       1.95   1310  \n",
       "Yemen                      67.5       4.67   1310  \n",
       "Zambia                     52.0       5.40   1460  \n",
       "\n",
       "[167 rows x 9 columns]"
      ]
     },
     "execution_count": 8,
     "metadata": {},
     "output_type": "execute_result"
    }
   ],
   "source": [
    "data_new"
   ]
  },
  {
   "cell_type": "code",
   "execution_count": 9,
   "metadata": {},
   "outputs": [],
   "source": [
    "del data_new['gdpp']"
   ]
  },
  {
   "cell_type": "code",
   "execution_count": 9,
   "metadata": {},
   "outputs": [
    {
     "data": {
      "text/html": [
       "<div>\n",
       "<style scoped>\n",
       "    .dataframe tbody tr th:only-of-type {\n",
       "        vertical-align: middle;\n",
       "    }\n",
       "\n",
       "    .dataframe tbody tr th {\n",
       "        vertical-align: top;\n",
       "    }\n",
       "\n",
       "    .dataframe thead th {\n",
       "        text-align: right;\n",
       "    }\n",
       "</style>\n",
       "<table border=\"1\" class=\"dataframe\">\n",
       "  <thead>\n",
       "    <tr style=\"text-align: right;\">\n",
       "      <th></th>\n",
       "      <th>child_mort</th>\n",
       "      <th>exports</th>\n",
       "      <th>health</th>\n",
       "      <th>imports</th>\n",
       "      <th>income</th>\n",
       "      <th>inflation</th>\n",
       "      <th>life_expec</th>\n",
       "      <th>total_fer</th>\n",
       "      <th>gdpp</th>\n",
       "    </tr>\n",
       "    <tr>\n",
       "      <th>country</th>\n",
       "      <th></th>\n",
       "      <th></th>\n",
       "      <th></th>\n",
       "      <th></th>\n",
       "      <th></th>\n",
       "      <th></th>\n",
       "      <th></th>\n",
       "      <th></th>\n",
       "      <th></th>\n",
       "    </tr>\n",
       "  </thead>\n",
       "  <tbody>\n",
       "    <tr>\n",
       "      <th>Afghanistan</th>\n",
       "      <td>90.2</td>\n",
       "      <td>10.0</td>\n",
       "      <td>7.58</td>\n",
       "      <td>44.9</td>\n",
       "      <td>1610</td>\n",
       "      <td>9.44</td>\n",
       "      <td>56.2</td>\n",
       "      <td>5.82</td>\n",
       "      <td>553</td>\n",
       "    </tr>\n",
       "    <tr>\n",
       "      <th>Albania</th>\n",
       "      <td>16.6</td>\n",
       "      <td>28.0</td>\n",
       "      <td>6.55</td>\n",
       "      <td>48.6</td>\n",
       "      <td>9930</td>\n",
       "      <td>4.49</td>\n",
       "      <td>76.3</td>\n",
       "      <td>1.65</td>\n",
       "      <td>4090</td>\n",
       "    </tr>\n",
       "    <tr>\n",
       "      <th>Algeria</th>\n",
       "      <td>27.3</td>\n",
       "      <td>38.4</td>\n",
       "      <td>4.17</td>\n",
       "      <td>31.4</td>\n",
       "      <td>12900</td>\n",
       "      <td>16.10</td>\n",
       "      <td>76.5</td>\n",
       "      <td>2.89</td>\n",
       "      <td>4460</td>\n",
       "    </tr>\n",
       "    <tr>\n",
       "      <th>Angola</th>\n",
       "      <td>119.0</td>\n",
       "      <td>62.3</td>\n",
       "      <td>2.85</td>\n",
       "      <td>42.9</td>\n",
       "      <td>5900</td>\n",
       "      <td>22.40</td>\n",
       "      <td>60.1</td>\n",
       "      <td>6.16</td>\n",
       "      <td>3530</td>\n",
       "    </tr>\n",
       "    <tr>\n",
       "      <th>Antigua and Barbuda</th>\n",
       "      <td>10.3</td>\n",
       "      <td>45.5</td>\n",
       "      <td>6.03</td>\n",
       "      <td>58.9</td>\n",
       "      <td>19100</td>\n",
       "      <td>1.44</td>\n",
       "      <td>76.8</td>\n",
       "      <td>2.13</td>\n",
       "      <td>12200</td>\n",
       "    </tr>\n",
       "  </tbody>\n",
       "</table>\n",
       "</div>"
      ],
      "text/plain": [
       "                     child_mort  exports  health  imports  income  inflation  \\\n",
       "country                                                                        \n",
       "Afghanistan                90.2     10.0    7.58     44.9    1610       9.44   \n",
       "Albania                    16.6     28.0    6.55     48.6    9930       4.49   \n",
       "Algeria                    27.3     38.4    4.17     31.4   12900      16.10   \n",
       "Angola                    119.0     62.3    2.85     42.9    5900      22.40   \n",
       "Antigua and Barbuda        10.3     45.5    6.03     58.9   19100       1.44   \n",
       "\n",
       "                     life_expec  total_fer   gdpp  \n",
       "country                                            \n",
       "Afghanistan                56.2       5.82    553  \n",
       "Albania                    76.3       1.65   4090  \n",
       "Algeria                    76.5       2.89   4460  \n",
       "Angola                     60.1       6.16   3530  \n",
       "Antigua and Barbuda        76.8       2.13  12200  "
      ]
     },
     "execution_count": 9,
     "metadata": {},
     "output_type": "execute_result"
    }
   ],
   "source": [
    "data_new.head()"
   ]
  },
  {
   "cell_type": "code",
   "execution_count": 10,
   "metadata": {
    "colab": {
     "base_uri": "https://localhost:8080/",
     "height": 204
    },
    "id": "QJZO4RpPlfv0",
    "outputId": "8d6dad4b-d6a1-4878-87b5-7deb77042d8b"
   },
   "outputs": [
    {
     "data": {
      "text/html": [
       "<div>\n",
       "<style scoped>\n",
       "    .dataframe tbody tr th:only-of-type {\n",
       "        vertical-align: middle;\n",
       "    }\n",
       "\n",
       "    .dataframe tbody tr th {\n",
       "        vertical-align: top;\n",
       "    }\n",
       "\n",
       "    .dataframe thead th {\n",
       "        text-align: right;\n",
       "    }\n",
       "</style>\n",
       "<table border=\"1\" class=\"dataframe\">\n",
       "  <thead>\n",
       "    <tr style=\"text-align: right;\">\n",
       "      <th></th>\n",
       "      <th>child_mort</th>\n",
       "      <th>exports</th>\n",
       "      <th>health</th>\n",
       "      <th>imports</th>\n",
       "      <th>income</th>\n",
       "      <th>inflation</th>\n",
       "      <th>life_expec</th>\n",
       "      <th>total_fer</th>\n",
       "    </tr>\n",
       "  </thead>\n",
       "  <tbody>\n",
       "    <tr>\n",
       "      <th>0</th>\n",
       "      <td>1.291532</td>\n",
       "      <td>-1.138280</td>\n",
       "      <td>0.279088</td>\n",
       "      <td>-0.082455</td>\n",
       "      <td>-0.808245</td>\n",
       "      <td>0.157336</td>\n",
       "      <td>-1.619092</td>\n",
       "      <td>1.902882</td>\n",
       "    </tr>\n",
       "    <tr>\n",
       "      <th>1</th>\n",
       "      <td>-0.538949</td>\n",
       "      <td>-0.479658</td>\n",
       "      <td>-0.097016</td>\n",
       "      <td>0.070837</td>\n",
       "      <td>-0.375369</td>\n",
       "      <td>-0.312347</td>\n",
       "      <td>0.647866</td>\n",
       "      <td>-0.859973</td>\n",
       "    </tr>\n",
       "    <tr>\n",
       "      <th>2</th>\n",
       "      <td>-0.272833</td>\n",
       "      <td>-0.099122</td>\n",
       "      <td>-0.966073</td>\n",
       "      <td>-0.641762</td>\n",
       "      <td>-0.220844</td>\n",
       "      <td>0.789274</td>\n",
       "      <td>0.670423</td>\n",
       "      <td>-0.038404</td>\n",
       "    </tr>\n",
       "    <tr>\n",
       "      <th>3</th>\n",
       "      <td>2.007808</td>\n",
       "      <td>0.775381</td>\n",
       "      <td>-1.448071</td>\n",
       "      <td>-0.165315</td>\n",
       "      <td>-0.585043</td>\n",
       "      <td>1.387054</td>\n",
       "      <td>-1.179234</td>\n",
       "      <td>2.128151</td>\n",
       "    </tr>\n",
       "    <tr>\n",
       "      <th>4</th>\n",
       "      <td>-0.695634</td>\n",
       "      <td>0.160668</td>\n",
       "      <td>-0.286894</td>\n",
       "      <td>0.497568</td>\n",
       "      <td>0.101732</td>\n",
       "      <td>-0.601749</td>\n",
       "      <td>0.704258</td>\n",
       "      <td>-0.541946</td>\n",
       "    </tr>\n",
       "  </tbody>\n",
       "</table>\n",
       "</div>"
      ],
      "text/plain": [
       "   child_mort   exports    health   imports    income  inflation  life_expec  \\\n",
       "0    1.291532 -1.138280  0.279088 -0.082455 -0.808245   0.157336   -1.619092   \n",
       "1   -0.538949 -0.479658 -0.097016  0.070837 -0.375369  -0.312347    0.647866   \n",
       "2   -0.272833 -0.099122 -0.966073 -0.641762 -0.220844   0.789274    0.670423   \n",
       "3    2.007808  0.775381 -1.448071 -0.165315 -0.585043   1.387054   -1.179234   \n",
       "4   -0.695634  0.160668 -0.286894  0.497568  0.101732  -0.601749    0.704258   \n",
       "\n",
       "   total_fer  \n",
       "0   1.902882  \n",
       "1  -0.859973  \n",
       "2  -0.038404  \n",
       "3   2.128151  \n",
       "4  -0.541946  "
      ]
     },
     "execution_count": 10,
     "metadata": {},
     "output_type": "execute_result"
    }
   ],
   "source": [
    "#Scaling the data and storing the output as a new dataframe\n",
    "scaler=StandardScaler()\n",
    "data_scaled=pd.DataFrame(scaler.fit_transform(data_new), columns=data_new.columns)\n",
    "\n",
    "data_scaled.head()"
   ]
  },
  {
   "cell_type": "code",
   "execution_count": 11,
   "metadata": {
    "id": "j3KcNzLplfv1"
   },
   "outputs": [],
   "source": [
    "#Creating copy of the data to store labels from each algorithm\n",
    "data_scaled_copy = data_scaled.copy()"
   ]
  },
  {
   "cell_type": "code",
   "execution_count": null,
   "metadata": {},
   "outputs": [],
   "source": []
  },
  {
   "cell_type": "markdown",
   "metadata": {
    "id": "WZ8_Nd8mSqDB"
   },
   "source": [
    "## K-Means Clustering"
   ]
  },
  {
   "cell_type": "code",
   "execution_count": 12,
   "metadata": {
    "colab": {
     "base_uri": "https://localhost:8080/",
     "height": 279
    },
    "id": "0RJFEjSR83C8",
    "outputId": "5f08d575-fa21-4e2e-e63b-9a41493b7fbb"
   },
   "outputs": [
    {
     "data": {
      "image/png": "[encoded data removed]",
      "text/plain": [
       "<Figure size 432x288 with 1 Axes>"
      ]
     },
     "metadata": {
      "needs_background": "light"
     },
     "output_type": "display_data"
    }
   ],
   "source": [
    "#Empty dictionary to store the SSE for each value of k\n",
    "sse = {} \n",
    "\n",
    "# iterate for a range of Ks and fit the scaled data to the algorithm. Use inertia attribute from the clustering object and \n",
    "# store the inertia value for that k \n",
    "for k in range(2, 15):\n",
    "    kmeans = KMeans(n_clusters=k, random_state=1)\n",
    "    kmeans.fit(data_scaled)\n",
    "    sse[k] = kmeans.inertia_ \n",
    "\n",
    "#Elbow plot\n",
    "plt.figure()\n",
    "plt.plot(list(sse.keys()), list(sse.values()), 'bx-')\n",
    "plt.xlabel(\"Number of cluster\")\n",
    "plt.ylabel(\"SSE\")\n",
    "plt.show()"
   ]
  },
  {
   "cell_type": "markdown",
   "metadata": {
    "id": "Q1fv-33Alfv1"
   },
   "source": [
    "**Observations:**\n",
    "\n",
    "- We can see from the plot that there is a consistent dip from 2 to 8 and there doesn't seem to be a clear 'elbow' here. We may chose any from 2 to 8 as our # of clusters. \n",
    "- So, let's look at another method to get a 'second opinion from maths'. Let's create a plot with Silhouette scores to see how it varies with k."
   ]
  },
  {
   "cell_type": "code",
   "execution_count": 13,
   "metadata": {
    "colab": {
     "base_uri": "https://localhost:8080/",
     "height": 279
    },
    "id": "yixqfYF5lfv2",
    "outputId": "00cce8d2-c9ed-4e84-d5a5-b9364821d55a",
    "scrolled": true
   },
   "outputs": [
    {
     "data": {
      "image/png": "[encoded data removed]",
      "text/plain": [
       "<Figure size 432x288 with 1 Axes>"
      ]
     },
     "metadata": {
      "needs_background": "light"
     },
     "output_type": "display_data"
    }
   ],
   "source": [
    "#Empty dictionary to store the Silhouette score for each value of k\n",
    "sc = {} \n",
    "\n",
    "# iterate for a range of Ks and fit the scaled data to the algorithm. Store the Silhouette score for that k \n",
    "for k in range(2, 15):\n",
    "    kmeans = KMeans(n_clusters=k, random_state=1).fit(data_scaled)\n",
    "    labels = kmeans.labels_\n",
    "    sc[k] = silhouette_score(data_scaled, labels)\n",
    "\n",
    "#Elbow plot\n",
    "plt.figure()\n",
    "plt.plot(list(sc.keys()), list(sc.values()), 'bx-')\n",
    "plt.xlabel(\"Number of cluster\")\n",
    "plt.ylabel(\"Silhouette Score\")\n",
    "plt.show()"
   ]
  },
  {
   "cell_type": "markdown",
   "metadata": {
    "id": "t3rmtgN0LCHr"
   },
   "source": [
    "**Observations:**\n",
    "\n",
    "- We can see from the plot that silhouette score is highest for k=3. Well that makes it slightly easy for us and we can start with first understanding these 3 clusters. So let's take the number of clusters as 3."
   ]
  },
  {
   "cell_type": "code",
   "execution_count": 25,
   "metadata": {
    "id": "PgqPL7_rqH9S"
   },
   "outputs": [],
   "source": [
    "kmeans = KMeans(n_clusters=4, random_state=1)\n",
    "kmeans.fit(data_scaled)\n",
    "\n",
    "#Adding predicted labels to the original data and scaled data \n",
    "data_scaled_copy['KMeans_Labels'] = kmeans.labels_\n",
    "data['KMeans_Labels'] = kmeans.labels_"
   ]
  },
  {
   "cell_type": "code",
   "execution_count": 26,
   "metadata": {},
   "outputs": [
    {
     "data": {
      "text/html": [
       "<div>\n",
       "<style scoped>\n",
       "    .dataframe tbody tr th:only-of-type {\n",
       "        vertical-align: middle;\n",
       "    }\n",
       "\n",
       "    .dataframe tbody tr th {\n",
       "        vertical-align: top;\n",
       "    }\n",
       "\n",
       "    .dataframe thead th {\n",
       "        text-align: right;\n",
       "    }\n",
       "</style>\n",
       "<table border=\"1\" class=\"dataframe\">\n",
       "  <thead>\n",
       "    <tr style=\"text-align: right;\">\n",
       "      <th></th>\n",
       "      <th>country</th>\n",
       "      <th>child_mort</th>\n",
       "      <th>exports</th>\n",
       "      <th>health</th>\n",
       "      <th>imports</th>\n",
       "      <th>income</th>\n",
       "      <th>inflation</th>\n",
       "      <th>life_expec</th>\n",
       "      <th>total_fer</th>\n",
       "      <th>gdpp</th>\n",
       "      <th>KMeans_Labels</th>\n",
       "    </tr>\n",
       "  </thead>\n",
       "  <tbody>\n",
       "    <tr>\n",
       "      <th>0</th>\n",
       "      <td>Afghanistan</td>\n",
       "      <td>90.2</td>\n",
       "      <td>10.0</td>\n",
       "      <td>7.58</td>\n",
       "      <td>44.9</td>\n",
       "      <td>1610</td>\n",
       "      <td>9.44</td>\n",
       "      <td>56.2</td>\n",
       "      <td>5.82</td>\n",
       "      <td>553</td>\n",
       "      <td>1</td>\n",
       "    </tr>\n",
       "    <tr>\n",
       "      <th>1</th>\n",
       "      <td>Albania</td>\n",
       "      <td>16.6</td>\n",
       "      <td>28.0</td>\n",
       "      <td>6.55</td>\n",
       "      <td>48.6</td>\n",
       "      <td>9930</td>\n",
       "      <td>4.49</td>\n",
       "      <td>76.3</td>\n",
       "      <td>1.65</td>\n",
       "      <td>4090</td>\n",
       "      <td>0</td>\n",
       "    </tr>\n",
       "    <tr>\n",
       "      <th>2</th>\n",
       "      <td>Algeria</td>\n",
       "      <td>27.3</td>\n",
       "      <td>38.4</td>\n",
       "      <td>4.17</td>\n",
       "      <td>31.4</td>\n",
       "      <td>12900</td>\n",
       "      <td>16.10</td>\n",
       "      <td>76.5</td>\n",
       "      <td>2.89</td>\n",
       "      <td>4460</td>\n",
       "      <td>0</td>\n",
       "    </tr>\n",
       "    <tr>\n",
       "      <th>3</th>\n",
       "      <td>Angola</td>\n",
       "      <td>119.0</td>\n",
       "      <td>62.3</td>\n",
       "      <td>2.85</td>\n",
       "      <td>42.9</td>\n",
       "      <td>5900</td>\n",
       "      <td>22.40</td>\n",
       "      <td>60.1</td>\n",
       "      <td>6.16</td>\n",
       "      <td>3530</td>\n",
       "      <td>1</td>\n",
       "    </tr>\n",
       "  </tbody>\n",
       "</table>\n",
       "</div>"
      ],
      "text/plain": [
       "       country  child_mort  exports  health  imports  income  inflation  \\\n",
       "0  Afghanistan        90.2     10.0    7.58     44.9    1610       9.44   \n",
       "1      Albania        16.6     28.0    6.55     48.6    9930       4.49   \n",
       "2      Algeria        27.3     38.4    4.17     31.4   12900      16.10   \n",
       "3       Angola       119.0     62.3    2.85     42.9    5900      22.40   \n",
       "\n",
       "   life_expec  total_fer  gdpp  KMeans_Labels  \n",
       "0        56.2       5.82   553              1  \n",
       "1        76.3       1.65  4090              0  \n",
       "2        76.5       2.89  4460              0  \n",
       "3        60.1       6.16  3530              1  "
      ]
     },
     "execution_count": 26,
     "metadata": {},
     "output_type": "execute_result"
    }
   ],
   "source": [
    "data.head(4)"
   ]
  },
  {
   "cell_type": "code",
   "execution_count": 18,
   "metadata": {},
   "outputs": [
    {
     "data": {
      "text/html": [
       "<div>\n",
       "<style scoped>\n",
       "    .dataframe tbody tr th:only-of-type {\n",
       "        vertical-align: middle;\n",
       "    }\n",
       "\n",
       "    .dataframe tbody tr th {\n",
       "        vertical-align: top;\n",
       "    }\n",
       "\n",
       "    .dataframe thead th {\n",
       "        text-align: right;\n",
       "    }\n",
       "</style>\n",
       "<table border=\"1\" class=\"dataframe\">\n",
       "  <thead>\n",
       "    <tr style=\"text-align: right;\">\n",
       "      <th></th>\n",
       "      <th>country</th>\n",
       "      <th>child_mort</th>\n",
       "      <th>exports</th>\n",
       "      <th>health</th>\n",
       "      <th>imports</th>\n",
       "      <th>income</th>\n",
       "      <th>inflation</th>\n",
       "      <th>life_expec</th>\n",
       "      <th>total_fer</th>\n",
       "      <th>gdpp</th>\n",
       "      <th>KMeans_Labels</th>\n",
       "    </tr>\n",
       "  </thead>\n",
       "  <tbody>\n",
       "    <tr>\n",
       "      <th>91</th>\n",
       "      <td>Luxembourg</td>\n",
       "      <td>2.8</td>\n",
       "      <td>175.0</td>\n",
       "      <td>7.77</td>\n",
       "      <td>142.0</td>\n",
       "      <td>91700</td>\n",
       "      <td>3.620</td>\n",
       "      <td>81.3</td>\n",
       "      <td>1.63</td>\n",
       "      <td>105000</td>\n",
       "      <td>2</td>\n",
       "    </tr>\n",
       "    <tr>\n",
       "      <th>98</th>\n",
       "      <td>Malta</td>\n",
       "      <td>6.8</td>\n",
       "      <td>153.0</td>\n",
       "      <td>8.65</td>\n",
       "      <td>154.0</td>\n",
       "      <td>28300</td>\n",
       "      <td>3.830</td>\n",
       "      <td>80.3</td>\n",
       "      <td>1.36</td>\n",
       "      <td>21100</td>\n",
       "      <td>2</td>\n",
       "    </tr>\n",
       "    <tr>\n",
       "      <th>133</th>\n",
       "      <td>Singapore</td>\n",
       "      <td>2.8</td>\n",
       "      <td>200.0</td>\n",
       "      <td>3.96</td>\n",
       "      <td>174.0</td>\n",
       "      <td>72100</td>\n",
       "      <td>-0.046</td>\n",
       "      <td>82.7</td>\n",
       "      <td>1.15</td>\n",
       "      <td>46600</td>\n",
       "      <td>2</td>\n",
       "    </tr>\n",
       "  </tbody>\n",
       "</table>\n",
       "</div>"
      ],
      "text/plain": [
       "        country  child_mort  exports  health  imports  income  inflation  \\\n",
       "91   Luxembourg         2.8    175.0    7.77    142.0   91700      3.620   \n",
       "98        Malta         6.8    153.0    8.65    154.0   28300      3.830   \n",
       "133   Singapore         2.8    200.0    3.96    174.0   72100     -0.046   \n",
       "\n",
       "     life_expec  total_fer    gdpp  KMeans_Labels  \n",
       "91         81.3       1.63  105000              2  \n",
       "98         80.3       1.36   21100              2  \n",
       "133        82.7       1.15   46600              2  "
      ]
     },
     "execution_count": 18,
     "metadata": {},
     "output_type": "execute_result"
    }
   ],
   "source": [
    "data[data.KMeans_Labels==2]"
   ]
  },
  {
   "cell_type": "code",
   "execution_count": 27,
   "metadata": {
    "colab": {
     "base_uri": "https://localhost:8080/"
    },
    "id": "UoBGnjy3yFBM",
    "outputId": "73999f66-7e90-4f07-bd28-b2046541fffb",
    "scrolled": true
   },
   "outputs": [
    {
     "data": {
      "text/plain": [
       "0    83\n",
       "1    47\n",
       "3    34\n",
       "2     3\n",
       "Name: KMeans_Labels, dtype: int64"
      ]
     },
     "execution_count": 27,
     "metadata": {},
     "output_type": "execute_result"
    }
   ],
   "source": [
    "data['KMeans_Labels'].value_counts()"
   ]
  },
  {
   "cell_type": "code",
   "execution_count": 30,
   "metadata": {
    "scrolled": true
   },
   "outputs": [
    {
     "data": {
      "text/plain": [
       "['Albania',\n",
       " 'Algeria',\n",
       " 'Antigua and Barbuda',\n",
       " 'Argentina',\n",
       " 'Armenia',\n",
       " 'Azerbaijan',\n",
       " 'Bahamas',\n",
       " 'Bahrain',\n",
       " 'Bangladesh',\n",
       " 'Barbados',\n",
       " 'Belarus',\n",
       " 'Belize',\n",
       " 'Bhutan',\n",
       " 'Bolivia',\n",
       " 'Brazil',\n",
       " 'Bulgaria',\n",
       " 'Cambodia',\n",
       " 'Cape Verde',\n",
       " 'Chile',\n",
       " 'China',\n",
       " 'Colombia',\n",
       " 'Croatia',\n",
       " 'Dominican Republic',\n",
       " 'Ecuador',\n",
       " 'Egypt',\n",
       " 'El Salvador',\n",
       " 'Estonia',\n",
       " 'Fiji',\n",
       " 'Georgia',\n",
       " 'Grenada',\n",
       " 'Guatemala',\n",
       " 'Guyana',\n",
       " 'Hungary',\n",
       " 'India',\n",
       " 'Indonesia',\n",
       " 'Iran',\n",
       " 'Jamaica',\n",
       " 'Jordan',\n",
       " 'Kazakhstan',\n",
       " 'Kyrgyz Republic',\n",
       " 'Latvia',\n",
       " 'Lebanon',\n",
       " 'Libya',\n",
       " 'Lithuania',\n",
       " 'Macedonia, FYR',\n",
       " 'Malaysia',\n",
       " 'Maldives',\n",
       " 'Mauritius',\n",
       " 'Micronesia, Fed. Sts.',\n",
       " 'Moldova',\n",
       " 'Mongolia',\n",
       " 'Montenegro',\n",
       " 'Morocco',\n",
       " 'Myanmar',\n",
       " 'Nepal',\n",
       " 'Oman',\n",
       " 'Panama',\n",
       " 'Paraguay',\n",
       " 'Peru',\n",
       " 'Philippines',\n",
       " 'Poland',\n",
       " 'Romania',\n",
       " 'Russia',\n",
       " 'Samoa',\n",
       " 'Saudi Arabia',\n",
       " 'Serbia',\n",
       " 'Seychelles',\n",
       " 'Solomon Islands',\n",
       " 'Sri Lanka',\n",
       " 'St. Vincent and the Grenadines',\n",
       " 'Suriname',\n",
       " 'Tajikistan',\n",
       " 'Thailand',\n",
       " 'Tonga',\n",
       " 'Tunisia',\n",
       " 'Turkey',\n",
       " 'Turkmenistan',\n",
       " 'Ukraine',\n",
       " 'Uruguay',\n",
       " 'Uzbekistan',\n",
       " 'Vanuatu',\n",
       " 'Venezuela',\n",
       " 'Vietnam']"
      ]
     },
     "execution_count": 30,
     "metadata": {},
     "output_type": "execute_result"
    }
   ],
   "source": [
    "data[data.KMeans_Labels==0]['country'].to_list()"
   ]
  },
  {
   "cell_type": "markdown",
   "metadata": {
    "id": "s2fnSnR9oFeR"
   },
   "source": [
    "**Observations:**\n",
    "\n",
    "This looks like a very skewed clustering with a very few observations in one cluster and more than 100 in other. Let's check out the profiles of these clusters"
   ]
  },
  {
   "cell_type": "code",
   "execution_count": 19,
   "metadata": {},
   "outputs": [
    {
     "data": {
      "text/html": [
       "<div>\n",
       "<style scoped>\n",
       "    .dataframe tbody tr th:only-of-type {\n",
       "        vertical-align: middle;\n",
       "    }\n",
       "\n",
       "    .dataframe tbody tr th {\n",
       "        vertical-align: top;\n",
       "    }\n",
       "\n",
       "    .dataframe thead th {\n",
       "        text-align: right;\n",
       "    }\n",
       "</style>\n",
       "<table border=\"1\" class=\"dataframe\">\n",
       "  <thead>\n",
       "    <tr style=\"text-align: right;\">\n",
       "      <th></th>\n",
       "      <th>country</th>\n",
       "      <th>child_mort</th>\n",
       "      <th>exports</th>\n",
       "      <th>health</th>\n",
       "      <th>imports</th>\n",
       "      <th>income</th>\n",
       "      <th>inflation</th>\n",
       "      <th>life_expec</th>\n",
       "      <th>total_fer</th>\n",
       "      <th>gdpp</th>\n",
       "      <th>KMeans_Labels</th>\n",
       "    </tr>\n",
       "  </thead>\n",
       "  <tbody>\n",
       "    <tr>\n",
       "      <th>0</th>\n",
       "      <td>Afghanistan</td>\n",
       "      <td>90.2</td>\n",
       "      <td>10.0</td>\n",
       "      <td>7.58</td>\n",
       "      <td>44.9</td>\n",
       "      <td>1610</td>\n",
       "      <td>9.44</td>\n",
       "      <td>56.2</td>\n",
       "      <td>5.82</td>\n",
       "      <td>553</td>\n",
       "      <td>0</td>\n",
       "    </tr>\n",
       "    <tr>\n",
       "      <th>1</th>\n",
       "      <td>Albania</td>\n",
       "      <td>16.6</td>\n",
       "      <td>28.0</td>\n",
       "      <td>6.55</td>\n",
       "      <td>48.6</td>\n",
       "      <td>9930</td>\n",
       "      <td>4.49</td>\n",
       "      <td>76.3</td>\n",
       "      <td>1.65</td>\n",
       "      <td>4090</td>\n",
       "      <td>1</td>\n",
       "    </tr>\n",
       "    <tr>\n",
       "      <th>2</th>\n",
       "      <td>Algeria</td>\n",
       "      <td>27.3</td>\n",
       "      <td>38.4</td>\n",
       "      <td>4.17</td>\n",
       "      <td>31.4</td>\n",
       "      <td>12900</td>\n",
       "      <td>16.10</td>\n",
       "      <td>76.5</td>\n",
       "      <td>2.89</td>\n",
       "      <td>4460</td>\n",
       "      <td>1</td>\n",
       "    </tr>\n",
       "    <tr>\n",
       "      <th>3</th>\n",
       "      <td>Angola</td>\n",
       "      <td>119.0</td>\n",
       "      <td>62.3</td>\n",
       "      <td>2.85</td>\n",
       "      <td>42.9</td>\n",
       "      <td>5900</td>\n",
       "      <td>22.40</td>\n",
       "      <td>60.1</td>\n",
       "      <td>6.16</td>\n",
       "      <td>3530</td>\n",
       "      <td>0</td>\n",
       "    </tr>\n",
       "    <tr>\n",
       "      <th>4</th>\n",
       "      <td>Antigua and Barbuda</td>\n",
       "      <td>10.3</td>\n",
       "      <td>45.5</td>\n",
       "      <td>6.03</td>\n",
       "      <td>58.9</td>\n",
       "      <td>19100</td>\n",
       "      <td>1.44</td>\n",
       "      <td>76.8</td>\n",
       "      <td>2.13</td>\n",
       "      <td>12200</td>\n",
       "      <td>1</td>\n",
       "    </tr>\n",
       "  </tbody>\n",
       "</table>\n",
       "</div>"
      ],
      "text/plain": [
       "               country  child_mort  exports  health  imports  income  \\\n",
       "0          Afghanistan        90.2     10.0    7.58     44.9    1610   \n",
       "1              Albania        16.6     28.0    6.55     48.6    9930   \n",
       "2              Algeria        27.3     38.4    4.17     31.4   12900   \n",
       "3               Angola       119.0     62.3    2.85     42.9    5900   \n",
       "4  Antigua and Barbuda        10.3     45.5    6.03     58.9   19100   \n",
       "\n",
       "   inflation  life_expec  total_fer   gdpp  KMeans_Labels  \n",
       "0       9.44        56.2       5.82    553              0  \n",
       "1       4.49        76.3       1.65   4090              1  \n",
       "2      16.10        76.5       2.89   4460              1  \n",
       "3      22.40        60.1       6.16   3530              0  \n",
       "4       1.44        76.8       2.13  12200              1  "
      ]
     },
     "execution_count": 19,
     "metadata": {},
     "output_type": "execute_result"
    }
   ],
   "source": [
    "data.head()"
   ]
  },
  {
   "cell_type": "code",
   "execution_count": 31,
   "metadata": {
    "colab": {
     "base_uri": "https://localhost:8080/",
     "height": 327
    },
    "id": "F5W_TaIllfv3",
    "outputId": "9f6a4049-af33-4021-d25f-ca524effa7a0"
   },
   "outputs": [],
   "source": [
    "#Calculating mean and median of the original data for each label\n",
    "mean = data.groupby('KMeans_Labels').mean()\n",
    "median = data.groupby('KMeans_Labels').median()"
   ]
  },
  {
   "cell_type": "code",
   "execution_count": 32,
   "metadata": {},
   "outputs": [
    {
     "data": {
      "text/html": [
       "<style type=\"text/css\">\n",
       "#T_7adae_row1_col0, #T_7adae_row1_col5, #T_7adae_row1_col7, #T_7adae_row2_col1, #T_7adae_row2_col3, #T_7adae_row2_col4, #T_7adae_row2_col6, #T_7adae_row2_col8, #T_7adae_row3_col2 {\n",
       "  background-color: lightgreen;\n",
       "}\n",
       "</style>\n",
       "<table id=\"T_7adae\">\n",
       "  <thead>\n",
       "    <tr>\n",
       "      <th class=\"blank level0\" >&nbsp;</th>\n",
       "      <th id=\"T_7adae_level0_col0\" class=\"col_heading level0 col0\" >child_mort</th>\n",
       "      <th id=\"T_7adae_level0_col1\" class=\"col_heading level0 col1\" >exports</th>\n",
       "      <th id=\"T_7adae_level0_col2\" class=\"col_heading level0 col2\" >health</th>\n",
       "      <th id=\"T_7adae_level0_col3\" class=\"col_heading level0 col3\" >imports</th>\n",
       "      <th id=\"T_7adae_level0_col4\" class=\"col_heading level0 col4\" >income</th>\n",
       "      <th id=\"T_7adae_level0_col5\" class=\"col_heading level0 col5\" >inflation</th>\n",
       "      <th id=\"T_7adae_level0_col6\" class=\"col_heading level0 col6\" >life_expec</th>\n",
       "      <th id=\"T_7adae_level0_col7\" class=\"col_heading level0 col7\" >total_fer</th>\n",
       "      <th id=\"T_7adae_level0_col8\" class=\"col_heading level0 col8\" >gdpp</th>\n",
       "    </tr>\n",
       "    <tr>\n",
       "      <th class=\"index_name level0\" >KMeans_Labels</th>\n",
       "      <th class=\"blank col0\" >&nbsp;</th>\n",
       "      <th class=\"blank col1\" >&nbsp;</th>\n",
       "      <th class=\"blank col2\" >&nbsp;</th>\n",
       "      <th class=\"blank col3\" >&nbsp;</th>\n",
       "      <th class=\"blank col4\" >&nbsp;</th>\n",
       "      <th class=\"blank col5\" >&nbsp;</th>\n",
       "      <th class=\"blank col6\" >&nbsp;</th>\n",
       "      <th class=\"blank col7\" >&nbsp;</th>\n",
       "      <th class=\"blank col8\" >&nbsp;</th>\n",
       "    </tr>\n",
       "  </thead>\n",
       "  <tbody>\n",
       "    <tr>\n",
       "      <th id=\"T_7adae_level0_row0\" class=\"row_heading level0 row0\" >0</th>\n",
       "      <td id=\"T_7adae_row0_col0\" class=\"data row0 col0\" >22.089157</td>\n",
       "      <td id=\"T_7adae_row0_col1\" class=\"data row0 col1\" >40.808301</td>\n",
       "      <td id=\"T_7adae_row0_col2\" class=\"data row0 col2\" >6.070482</td>\n",
       "      <td id=\"T_7adae_row0_col3\" class=\"data row0 col3\" >47.618866</td>\n",
       "      <td id=\"T_7adae_row0_col4\" class=\"data row0 col4\" >12675.301205</td>\n",
       "      <td id=\"T_7adae_row0_col5\" class=\"data row0 col5\" >7.686096</td>\n",
       "      <td id=\"T_7adae_row0_col6\" class=\"data row0 col6\" >72.713253</td>\n",
       "      <td id=\"T_7adae_row0_col7\" class=\"data row0 col7\" >2.322410</td>\n",
       "      <td id=\"T_7adae_row0_col8\" class=\"data row0 col8\" >6659.662651</td>\n",
       "    </tr>\n",
       "    <tr>\n",
       "      <th id=\"T_7adae_level0_row1\" class=\"row_heading level0 row1\" >1</th>\n",
       "      <td id=\"T_7adae_row1_col0\" class=\"data row1 col0\" >92.961702</td>\n",
       "      <td id=\"T_7adae_row1_col1\" class=\"data row1 col1\" >29.151277</td>\n",
       "      <td id=\"T_7adae_row1_col2\" class=\"data row1 col2\" >6.388511</td>\n",
       "      <td id=\"T_7adae_row1_col3\" class=\"data row1 col3\" >42.323404</td>\n",
       "      <td id=\"T_7adae_row1_col4\" class=\"data row1 col4\" >3942.404255</td>\n",
       "      <td id=\"T_7adae_row1_col5\" class=\"data row1 col5\" >12.019681</td>\n",
       "      <td id=\"T_7adae_row1_col6\" class=\"data row1 col6\" >59.187234</td>\n",
       "      <td id=\"T_7adae_row1_col7\" class=\"data row1 col7\" >5.008085</td>\n",
       "      <td id=\"T_7adae_row1_col8\" class=\"data row1 col8\" >1922.382979</td>\n",
       "    </tr>\n",
       "    <tr>\n",
       "      <th id=\"T_7adae_level0_row2\" class=\"row_heading level0 row2\" >2</th>\n",
       "      <td id=\"T_7adae_row2_col0\" class=\"data row2 col0\" >4.133333</td>\n",
       "      <td id=\"T_7adae_row2_col1\" class=\"data row2 col1\" >176.000000</td>\n",
       "      <td id=\"T_7adae_row2_col2\" class=\"data row2 col2\" >6.793333</td>\n",
       "      <td id=\"T_7adae_row2_col3\" class=\"data row2 col3\" >156.666667</td>\n",
       "      <td id=\"T_7adae_row2_col4\" class=\"data row2 col4\" >64033.333333</td>\n",
       "      <td id=\"T_7adae_row2_col5\" class=\"data row2 col5\" >2.468000</td>\n",
       "      <td id=\"T_7adae_row2_col6\" class=\"data row2 col6\" >81.433333</td>\n",
       "      <td id=\"T_7adae_row2_col7\" class=\"data row2 col7\" >1.380000</td>\n",
       "      <td id=\"T_7adae_row2_col8\" class=\"data row2 col8\" >57566.666667</td>\n",
       "    </tr>\n",
       "    <tr>\n",
       "      <th id=\"T_7adae_level0_row3\" class=\"row_heading level0 row3\" >3</th>\n",
       "      <td id=\"T_7adae_row3_col0\" class=\"data row3 col0\" >5.179412</td>\n",
       "      <td id=\"T_7adae_row3_col1\" class=\"data row3 col1\" >46.470588</td>\n",
       "      <td id=\"T_7adae_row3_col2\" class=\"data row3 col2\" >9.227353</td>\n",
       "      <td id=\"T_7adae_row3_col3\" class=\"data row3 col3\" >41.738235</td>\n",
       "      <td id=\"T_7adae_row3_col4\" class=\"data row3 col4\" >42168.235294</td>\n",
       "      <td id=\"T_7adae_row3_col5\" class=\"data row3 col5\" >2.626206</td>\n",
       "      <td id=\"T_7adae_row3_col6\" class=\"data row3 col6\" >80.044118</td>\n",
       "      <td id=\"T_7adae_row3_col7\" class=\"data row3 col7\" >1.765588</td>\n",
       "      <td id=\"T_7adae_row3_col8\" class=\"data row3 col8\" >39682.647059</td>\n",
       "    </tr>\n",
       "  </tbody>\n",
       "</table>\n"
      ],
      "text/plain": [
       "<pandas.io.formats.style.Styler at 0x1e0f48fe910>"
      ]
     },
     "execution_count": 32,
     "metadata": {},
     "output_type": "execute_result"
    }
   ],
   "source": [
    "mean.style.highlight_max(color=\"lightgreen\")"
   ]
  },
  {
   "cell_type": "code",
   "execution_count": 33,
   "metadata": {},
   "outputs": [
    {
     "data": {
      "text/html": [
       "<style type=\"text/css\">\n",
       "#T_bbacb_row0_col2, #T_bbacb_row1_col1, #T_bbacb_row1_col4, #T_bbacb_row1_col6, #T_bbacb_row1_col8, #T_bbacb_row2_col0, #T_bbacb_row2_col5, #T_bbacb_row2_col7, #T_bbacb_row3_col3 {\n",
       "  background-color: red;\n",
       "}\n",
       "</style>\n",
       "<table id=\"T_bbacb\">\n",
       "  <thead>\n",
       "    <tr>\n",
       "      <th class=\"blank level0\" >&nbsp;</th>\n",
       "      <th id=\"T_bbacb_level0_col0\" class=\"col_heading level0 col0\" >child_mort</th>\n",
       "      <th id=\"T_bbacb_level0_col1\" class=\"col_heading level0 col1\" >exports</th>\n",
       "      <th id=\"T_bbacb_level0_col2\" class=\"col_heading level0 col2\" >health</th>\n",
       "      <th id=\"T_bbacb_level0_col3\" class=\"col_heading level0 col3\" >imports</th>\n",
       "      <th id=\"T_bbacb_level0_col4\" class=\"col_heading level0 col4\" >income</th>\n",
       "      <th id=\"T_bbacb_level0_col5\" class=\"col_heading level0 col5\" >inflation</th>\n",
       "      <th id=\"T_bbacb_level0_col6\" class=\"col_heading level0 col6\" >life_expec</th>\n",
       "      <th id=\"T_bbacb_level0_col7\" class=\"col_heading level0 col7\" >total_fer</th>\n",
       "      <th id=\"T_bbacb_level0_col8\" class=\"col_heading level0 col8\" >gdpp</th>\n",
       "    </tr>\n",
       "    <tr>\n",
       "      <th class=\"index_name level0\" >KMeans_Labels</th>\n",
       "      <th class=\"blank col0\" >&nbsp;</th>\n",
       "      <th class=\"blank col1\" >&nbsp;</th>\n",
       "      <th class=\"blank col2\" >&nbsp;</th>\n",
       "      <th class=\"blank col3\" >&nbsp;</th>\n",
       "      <th class=\"blank col4\" >&nbsp;</th>\n",
       "      <th class=\"blank col5\" >&nbsp;</th>\n",
       "      <th class=\"blank col6\" >&nbsp;</th>\n",
       "      <th class=\"blank col7\" >&nbsp;</th>\n",
       "      <th class=\"blank col8\" >&nbsp;</th>\n",
       "    </tr>\n",
       "  </thead>\n",
       "  <tbody>\n",
       "    <tr>\n",
       "      <th id=\"T_bbacb_level0_row0\" class=\"row_heading level0 row0\" >0</th>\n",
       "      <td id=\"T_bbacb_row0_col0\" class=\"data row0 col0\" >22.089157</td>\n",
       "      <td id=\"T_bbacb_row0_col1\" class=\"data row0 col1\" >40.808301</td>\n",
       "      <td id=\"T_bbacb_row0_col2\" class=\"data row0 col2\" >6.070482</td>\n",
       "      <td id=\"T_bbacb_row0_col3\" class=\"data row0 col3\" >47.618866</td>\n",
       "      <td id=\"T_bbacb_row0_col4\" class=\"data row0 col4\" >12675.301205</td>\n",
       "      <td id=\"T_bbacb_row0_col5\" class=\"data row0 col5\" >7.686096</td>\n",
       "      <td id=\"T_bbacb_row0_col6\" class=\"data row0 col6\" >72.713253</td>\n",
       "      <td id=\"T_bbacb_row0_col7\" class=\"data row0 col7\" >2.322410</td>\n",
       "      <td id=\"T_bbacb_row0_col8\" class=\"data row0 col8\" >6659.662651</td>\n",
       "    </tr>\n",
       "    <tr>\n",
       "      <th id=\"T_bbacb_level0_row1\" class=\"row_heading level0 row1\" >1</th>\n",
       "      <td id=\"T_bbacb_row1_col0\" class=\"data row1 col0\" >92.961702</td>\n",
       "      <td id=\"T_bbacb_row1_col1\" class=\"data row1 col1\" >29.151277</td>\n",
       "      <td id=\"T_bbacb_row1_col2\" class=\"data row1 col2\" >6.388511</td>\n",
       "      <td id=\"T_bbacb_row1_col3\" class=\"data row1 col3\" >42.323404</td>\n",
       "      <td id=\"T_bbacb_row1_col4\" class=\"data row1 col4\" >3942.404255</td>\n",
       "      <td id=\"T_bbacb_row1_col5\" class=\"data row1 col5\" >12.019681</td>\n",
       "      <td id=\"T_bbacb_row1_col6\" class=\"data row1 col6\" >59.187234</td>\n",
       "      <td id=\"T_bbacb_row1_col7\" class=\"data row1 col7\" >5.008085</td>\n",
       "      <td id=\"T_bbacb_row1_col8\" class=\"data row1 col8\" >1922.382979</td>\n",
       "    </tr>\n",
       "    <tr>\n",
       "      <th id=\"T_bbacb_level0_row2\" class=\"row_heading level0 row2\" >2</th>\n",
       "      <td id=\"T_bbacb_row2_col0\" class=\"data row2 col0\" >4.133333</td>\n",
       "      <td id=\"T_bbacb_row2_col1\" class=\"data row2 col1\" >176.000000</td>\n",
       "      <td id=\"T_bbacb_row2_col2\" class=\"data row2 col2\" >6.793333</td>\n",
       "      <td id=\"T_bbacb_row2_col3\" class=\"data row2 col3\" >156.666667</td>\n",
       "      <td id=\"T_bbacb_row2_col4\" class=\"data row2 col4\" >64033.333333</td>\n",
       "      <td id=\"T_bbacb_row2_col5\" class=\"data row2 col5\" >2.468000</td>\n",
       "      <td id=\"T_bbacb_row2_col6\" class=\"data row2 col6\" >81.433333</td>\n",
       "      <td id=\"T_bbacb_row2_col7\" class=\"data row2 col7\" >1.380000</td>\n",
       "      <td id=\"T_bbacb_row2_col8\" class=\"data row2 col8\" >57566.666667</td>\n",
       "    </tr>\n",
       "    <tr>\n",
       "      <th id=\"T_bbacb_level0_row3\" class=\"row_heading level0 row3\" >3</th>\n",
       "      <td id=\"T_bbacb_row3_col0\" class=\"data row3 col0\" >5.179412</td>\n",
       "      <td id=\"T_bbacb_row3_col1\" class=\"data row3 col1\" >46.470588</td>\n",
       "      <td id=\"T_bbacb_row3_col2\" class=\"data row3 col2\" >9.227353</td>\n",
       "      <td id=\"T_bbacb_row3_col3\" class=\"data row3 col3\" >41.738235</td>\n",
       "      <td id=\"T_bbacb_row3_col4\" class=\"data row3 col4\" >42168.235294</td>\n",
       "      <td id=\"T_bbacb_row3_col5\" class=\"data row3 col5\" >2.626206</td>\n",
       "      <td id=\"T_bbacb_row3_col6\" class=\"data row3 col6\" >80.044118</td>\n",
       "      <td id=\"T_bbacb_row3_col7\" class=\"data row3 col7\" >1.765588</td>\n",
       "      <td id=\"T_bbacb_row3_col8\" class=\"data row3 col8\" >39682.647059</td>\n",
       "    </tr>\n",
       "  </tbody>\n",
       "</table>\n"
      ],
      "text/plain": [
       "<pandas.io.formats.style.Styler at 0x1e0f227dbe0>"
      ]
     },
     "execution_count": 33,
     "metadata": {},
     "output_type": "execute_result"
    }
   ],
   "source": [
    "mean.style.highlight_min(color=\"red\")"
   ]
  },
  {
   "cell_type": "markdown",
   "metadata": {
    "id": "bH_dHHeElEe3"
   },
   "source": [
    "**Cluster Profiles:**\n",
    "\n",
    "- Cluster 2 has only 3 observations. As observed from scatter plots and boxplots, group 2 **consists of outlier countries** with highest imports and exports as percentage of GDP. These countries also have very high income.\n",
    "- Cluster 1 seems to have very poor values for many indicators, like highest inflation rate, lowest GDP per capita, lowest exports as well as imports - all signaling towards very poor economic situation, and they also have the highest child mortality, highest fertility, lowest life expectancy - all signaling towards poor state of health care in the country. This cluster shows traits of  **underdeveloped and developing countries** These countries also seem to have a trade deficit i.e. imports are more the exports. When a country has a trade deficit, it must borrow from other countries to pay for the extra imports.\n",
    "- Cluster 0 is the largest cluster which shows traits of **developing and developed countries**. The countries in this cluster have comparatively better state of affair for many socio-economic factors but  with a large range of values, indicating that this is a mix of many different types of countries. Ideally, we do not want a cluster to be like this as the fundamental idea behind clustering is to 'group similar things' and this cluster seems to have a lot of 'dissimilarity' within it\n",
    "\n",
    "- Overall, this clustering solution does give us good insights into potential clusters of similar countries but is not very useful as it is impacted by outlier countries resulting in one very small cluster and two very big clusters. We should try other algorithms to see if we can do better. \n"
   ]
  },
  {
   "cell_type": "markdown",
   "metadata": {
    "id": "YNAW-TqXI64l"
   },
   "source": [
    "## K-Medoids Clustering"
   ]
  },
  {
   "cell_type": "code",
   "execution_count": 38,
   "metadata": {
    "colab": {
     "base_uri": "https://localhost:8080/",
     "height": 389
    },
    "id": "P7Jej7ejI-GK",
    "outputId": "6cd54218-1e8c-4ab8-83f8-c7523f1ad7d3"
   },
   "outputs": [
    {
     "name": "stdout",
     "output_type": "stream",
     "text": [
      "Requirement already satisfied: scikit-learn-extra in c:\\users\\nsharma\\anaconda3\\lib\\site-packages (0.2.0)\n",
      "Requirement already satisfied: scikit-learn>=0.23.0 in c:\\users\\nsharma\\anaconda3\\lib\\site-packages (from scikit-learn-extra) (1.0.2)\n",
      "Requirement already satisfied: scipy>=0.19.1 in c:\\users\\nsharma\\anaconda3\\lib\\site-packages (from scikit-learn-extra) (1.5.2)\n",
      "Requirement already satisfied: numpy>=1.13.3 in c:\\users\\nsharma\\anaconda3\\lib\\site-packages (from scikit-learn-extra) (1.22.2)\n",
      "Requirement already satisfied: joblib>=0.11 in c:\\users\\nsharma\\anaconda3\\lib\\site-packages (from scikit-learn>=0.23.0->scikit-learn-extra) (1.1.0)\n",
      "Requirement already satisfied: threadpoolctl>=2.0.0 in c:\\users\\nsharma\\anaconda3\\lib\\site-packages (from scikit-learn>=0.23.0->scikit-learn-extra) (2.1.0)\n"
     ]
    }
   ],
   "source": [
    "#Install this to package to use KMedoids\n",
    "! pip install scikit-learn-extra"
   ]
  },
  {
   "cell_type": "code",
   "execution_count": 34,
   "metadata": {
    "id": "GIZdKqCqJBrh"
   },
   "outputs": [],
   "source": [
    "from sklearn_extra.cluster import KMedoids "
   ]
  },
  {
   "cell_type": "code",
   "execution_count": 48,
   "metadata": {
    "id": "6zINFQzNJB0j"
   },
   "outputs": [],
   "source": [
    "kmedo = KMedoids(n_clusters = 4, random_state=1)\n",
    "kmedo.fit(data_scaled)\n",
    "\n",
    "data_scaled_copy['kmedoLabels'] = kmedo.predict(data_scaled)\n",
    "data['kmedoLabels'] = kmedo.predict(data_scaled)"
   ]
  },
  {
   "cell_type": "code",
   "execution_count": 49,
   "metadata": {},
   "outputs": [
    {
     "data": {
      "text/html": [
       "<div>\n",
       "<style scoped>\n",
       "    .dataframe tbody tr th:only-of-type {\n",
       "        vertical-align: middle;\n",
       "    }\n",
       "\n",
       "    .dataframe tbody tr th {\n",
       "        vertical-align: top;\n",
       "    }\n",
       "\n",
       "    .dataframe thead th {\n",
       "        text-align: right;\n",
       "    }\n",
       "</style>\n",
       "<table border=\"1\" class=\"dataframe\">\n",
       "  <thead>\n",
       "    <tr style=\"text-align: right;\">\n",
       "      <th></th>\n",
       "      <th>country</th>\n",
       "      <th>child_mort</th>\n",
       "      <th>exports</th>\n",
       "      <th>health</th>\n",
       "      <th>imports</th>\n",
       "      <th>income</th>\n",
       "      <th>inflation</th>\n",
       "      <th>life_expec</th>\n",
       "      <th>total_fer</th>\n",
       "      <th>gdpp</th>\n",
       "      <th>KMeans_Labels</th>\n",
       "      <th>kmedoLabels</th>\n",
       "    </tr>\n",
       "  </thead>\n",
       "  <tbody>\n",
       "    <tr>\n",
       "      <th>36</th>\n",
       "      <td>Comoros</td>\n",
       "      <td>88.2</td>\n",
       "      <td>16.5</td>\n",
       "      <td>4.51</td>\n",
       "      <td>51.7</td>\n",
       "      <td>1410</td>\n",
       "      <td>3.87</td>\n",
       "      <td>65.9</td>\n",
       "      <td>4.75</td>\n",
       "      <td>769</td>\n",
       "      <td>1</td>\n",
       "      <td>2</td>\n",
       "    </tr>\n",
       "    <tr>\n",
       "      <th>9</th>\n",
       "      <td>Azerbaijan</td>\n",
       "      <td>39.2</td>\n",
       "      <td>54.3</td>\n",
       "      <td>5.88</td>\n",
       "      <td>20.7</td>\n",
       "      <td>16000</td>\n",
       "      <td>13.80</td>\n",
       "      <td>69.1</td>\n",
       "      <td>1.92</td>\n",
       "      <td>5840</td>\n",
       "      <td>0</td>\n",
       "      <td>3</td>\n",
       "    </tr>\n",
       "    <tr>\n",
       "      <th>150</th>\n",
       "      <td>Togo</td>\n",
       "      <td>90.3</td>\n",
       "      <td>40.2</td>\n",
       "      <td>7.65</td>\n",
       "      <td>57.3</td>\n",
       "      <td>1210</td>\n",
       "      <td>1.18</td>\n",
       "      <td>58.7</td>\n",
       "      <td>4.87</td>\n",
       "      <td>488</td>\n",
       "      <td>1</td>\n",
       "      <td>2</td>\n",
       "    </tr>\n",
       "    <tr>\n",
       "      <th>113</th>\n",
       "      <td>Nigeria</td>\n",
       "      <td>130.0</td>\n",
       "      <td>25.3</td>\n",
       "      <td>5.07</td>\n",
       "      <td>17.4</td>\n",
       "      <td>5150</td>\n",
       "      <td>104.00</td>\n",
       "      <td>60.5</td>\n",
       "      <td>5.84</td>\n",
       "      <td>2330</td>\n",
       "      <td>1</td>\n",
       "      <td>2</td>\n",
       "    </tr>\n",
       "    <tr>\n",
       "      <th>16</th>\n",
       "      <td>Belize</td>\n",
       "      <td>18.8</td>\n",
       "      <td>58.2</td>\n",
       "      <td>5.20</td>\n",
       "      <td>57.5</td>\n",
       "      <td>7880</td>\n",
       "      <td>1.14</td>\n",
       "      <td>71.4</td>\n",
       "      <td>2.71</td>\n",
       "      <td>4340</td>\n",
       "      <td>0</td>\n",
       "      <td>0</td>\n",
       "    </tr>\n",
       "    <tr>\n",
       "      <th>5</th>\n",
       "      <td>Argentina</td>\n",
       "      <td>14.5</td>\n",
       "      <td>18.9</td>\n",
       "      <td>8.10</td>\n",
       "      <td>16.0</td>\n",
       "      <td>18700</td>\n",
       "      <td>20.90</td>\n",
       "      <td>75.8</td>\n",
       "      <td>2.37</td>\n",
       "      <td>10300</td>\n",
       "      <td>0</td>\n",
       "      <td>3</td>\n",
       "    </tr>\n",
       "    <tr>\n",
       "      <th>42</th>\n",
       "      <td>Cyprus</td>\n",
       "      <td>3.6</td>\n",
       "      <td>50.2</td>\n",
       "      <td>5.97</td>\n",
       "      <td>57.5</td>\n",
       "      <td>33900</td>\n",
       "      <td>2.01</td>\n",
       "      <td>79.9</td>\n",
       "      <td>1.42</td>\n",
       "      <td>30800</td>\n",
       "      <td>3</td>\n",
       "      <td>0</td>\n",
       "    </tr>\n",
       "    <tr>\n",
       "      <th>82</th>\n",
       "      <td>Kuwait</td>\n",
       "      <td>10.8</td>\n",
       "      <td>66.7</td>\n",
       "      <td>2.63</td>\n",
       "      <td>30.4</td>\n",
       "      <td>75200</td>\n",
       "      <td>11.20</td>\n",
       "      <td>78.2</td>\n",
       "      <td>2.21</td>\n",
       "      <td>38500</td>\n",
       "      <td>3</td>\n",
       "      <td>1</td>\n",
       "    </tr>\n",
       "    <tr>\n",
       "      <th>148</th>\n",
       "      <td>Thailand</td>\n",
       "      <td>14.9</td>\n",
       "      <td>66.5</td>\n",
       "      <td>3.88</td>\n",
       "      <td>60.8</td>\n",
       "      <td>13500</td>\n",
       "      <td>4.08</td>\n",
       "      <td>76.6</td>\n",
       "      <td>1.55</td>\n",
       "      <td>5080</td>\n",
       "      <td>0</td>\n",
       "      <td>0</td>\n",
       "    </tr>\n",
       "    <tr>\n",
       "      <th>63</th>\n",
       "      <td>Guinea</td>\n",
       "      <td>109.0</td>\n",
       "      <td>30.3</td>\n",
       "      <td>4.93</td>\n",
       "      <td>43.2</td>\n",
       "      <td>1190</td>\n",
       "      <td>16.10</td>\n",
       "      <td>58.0</td>\n",
       "      <td>5.34</td>\n",
       "      <td>648</td>\n",
       "      <td>1</td>\n",
       "      <td>2</td>\n",
       "    </tr>\n",
       "  </tbody>\n",
       "</table>\n",
       "</div>"
      ],
      "text/plain": [
       "        country  child_mort  exports  health  imports  income  inflation  \\\n",
       "36      Comoros        88.2     16.5    4.51     51.7    1410       3.87   \n",
       "9    Azerbaijan        39.2     54.3    5.88     20.7   16000      13.80   \n",
       "150        Togo        90.3     40.2    7.65     57.3    1210       1.18   \n",
       "113     Nigeria       130.0     25.3    5.07     17.4    5150     104.00   \n",
       "16       Belize        18.8     58.2    5.20     57.5    7880       1.14   \n",
       "5     Argentina        14.5     18.9    8.10     16.0   18700      20.90   \n",
       "42       Cyprus         3.6     50.2    5.97     57.5   33900       2.01   \n",
       "82       Kuwait        10.8     66.7    2.63     30.4   75200      11.20   \n",
       "148    Thailand        14.9     66.5    3.88     60.8   13500       4.08   \n",
       "63       Guinea       109.0     30.3    4.93     43.2    1190      16.10   \n",
       "\n",
       "     life_expec  total_fer   gdpp  KMeans_Labels  kmedoLabels  \n",
       "36         65.9       4.75    769              1            2  \n",
       "9          69.1       1.92   5840              0            3  \n",
       "150        58.7       4.87    488              1            2  \n",
       "113        60.5       5.84   2330              1            2  \n",
       "16         71.4       2.71   4340              0            0  \n",
       "5          75.8       2.37  10300              0            3  \n",
       "42         79.9       1.42  30800              3            0  \n",
       "82         78.2       2.21  38500              3            1  \n",
       "148        76.6       1.55   5080              0            0  \n",
       "63         58.0       5.34    648              1            2  "
      ]
     },
     "execution_count": 49,
     "metadata": {},
     "output_type": "execute_result"
    }
   ],
   "source": [
    "data.sample(10)"
   ]
  },
  {
   "cell_type": "code",
   "execution_count": 50,
   "metadata": {
    "colab": {
     "base_uri": "https://localhost:8080/"
    },
    "id": "voAuR1atLZK4",
    "outputId": "44528ed4-43d7-4d9b-88a2-69a6d7cac64f"
   },
   "outputs": [
    {
     "data": {
      "text/plain": [
       "0    48\n",
       "2    47\n",
       "3    41\n",
       "1    31\n",
       "Name: kmedoLabels, dtype: int64"
      ]
     },
     "execution_count": 50,
     "metadata": {},
     "output_type": "execute_result"
    }
   ],
   "source": [
    "data.kmedoLabels.value_counts()"
   ]
  },
  {
   "cell_type": "code",
   "execution_count": 54,
   "metadata": {
    "scrolled": true
   },
   "outputs": [
    {
     "data": {
      "text/plain": [
       "['Albania',\n",
       " 'Algeria',\n",
       " 'Argentina',\n",
       " 'Armenia',\n",
       " 'Azerbaijan',\n",
       " 'Bangladesh',\n",
       " 'Bolivia',\n",
       " 'Brazil',\n",
       " 'Chile',\n",
       " 'China',\n",
       " 'Colombia',\n",
       " 'Dominican Republic',\n",
       " 'Ecuador',\n",
       " 'Egypt',\n",
       " 'El Salvador',\n",
       " 'Georgia',\n",
       " 'Grenada',\n",
       " 'Guatemala',\n",
       " 'India',\n",
       " 'Indonesia',\n",
       " 'Iran',\n",
       " 'Jamaica',\n",
       " 'Kazakhstan',\n",
       " 'Mongolia',\n",
       " 'Morocco',\n",
       " 'Myanmar',\n",
       " 'Nepal',\n",
       " 'Peru',\n",
       " 'Philippines',\n",
       " 'Romania',\n",
       " 'Russia',\n",
       " 'Samoa',\n",
       " 'Saudi Arabia',\n",
       " 'Sri Lanka',\n",
       " 'Suriname',\n",
       " 'Tajikistan',\n",
       " 'Tonga',\n",
       " 'Turkey',\n",
       " 'Uruguay',\n",
       " 'Uzbekistan',\n",
       " 'Venezuela']"
      ]
     },
     "execution_count": 54,
     "metadata": {},
     "output_type": "execute_result"
    }
   ],
   "source": [
    "data[data.kmedoLabels==3]['country'].to_list()"
   ]
  },
  {
   "cell_type": "code",
   "execution_count": 55,
   "metadata": {
    "colab": {
     "base_uri": "https://localhost:8080/",
     "height": 327
    },
    "id": "rIQcOnK7lfv5",
    "outputId": "498d4d43-61e2-41cf-9434-93fe23448439"
   },
   "outputs": [],
   "source": [
    "#Calculating mean and median of the original data for each label\n",
    "original_features = ['child_mort', 'exports', 'health', 'imports', 'income', 'inflation', 'life_expec', 'total_fer', 'gdpp']\n",
    "\n",
    "mean = data.groupby('kmedoLabels')[original_features].mean()\n",
    "median = data.groupby('kmedoLabels')[original_features].median()"
   ]
  },
  {
   "cell_type": "code",
   "execution_count": 56,
   "metadata": {},
   "outputs": [
    {
     "data": {
      "text/html": [
       "<style type=\"text/css\">\n",
       "#T_98c76_row0_col1, #T_98c76_row0_col3, #T_98c76_row1_col2, #T_98c76_row1_col4, #T_98c76_row1_col6, #T_98c76_row1_col8, #T_98c76_row2_col0, #T_98c76_row2_col5, #T_98c76_row2_col7 {\n",
       "  background-color: lightgreen;\n",
       "}\n",
       "</style>\n",
       "<table id=\"T_98c76\">\n",
       "  <thead>\n",
       "    <tr>\n",
       "      <th class=\"blank level0\" >&nbsp;</th>\n",
       "      <th id=\"T_98c76_level0_col0\" class=\"col_heading level0 col0\" >child_mort</th>\n",
       "      <th id=\"T_98c76_level0_col1\" class=\"col_heading level0 col1\" >exports</th>\n",
       "      <th id=\"T_98c76_level0_col2\" class=\"col_heading level0 col2\" >health</th>\n",
       "      <th id=\"T_98c76_level0_col3\" class=\"col_heading level0 col3\" >imports</th>\n",
       "      <th id=\"T_98c76_level0_col4\" class=\"col_heading level0 col4\" >income</th>\n",
       "      <th id=\"T_98c76_level0_col5\" class=\"col_heading level0 col5\" >inflation</th>\n",
       "      <th id=\"T_98c76_level0_col6\" class=\"col_heading level0 col6\" >life_expec</th>\n",
       "      <th id=\"T_98c76_level0_col7\" class=\"col_heading level0 col7\" >total_fer</th>\n",
       "      <th id=\"T_98c76_level0_col8\" class=\"col_heading level0 col8\" >gdpp</th>\n",
       "    </tr>\n",
       "    <tr>\n",
       "      <th class=\"index_name level0\" >kmedoLabels</th>\n",
       "      <th class=\"blank col0\" >&nbsp;</th>\n",
       "      <th class=\"blank col1\" >&nbsp;</th>\n",
       "      <th class=\"blank col2\" >&nbsp;</th>\n",
       "      <th class=\"blank col3\" >&nbsp;</th>\n",
       "      <th class=\"blank col4\" >&nbsp;</th>\n",
       "      <th class=\"blank col5\" >&nbsp;</th>\n",
       "      <th class=\"blank col6\" >&nbsp;</th>\n",
       "      <th class=\"blank col7\" >&nbsp;</th>\n",
       "      <th class=\"blank col8\" >&nbsp;</th>\n",
       "    </tr>\n",
       "  </thead>\n",
       "  <tbody>\n",
       "    <tr>\n",
       "      <th id=\"T_98c76_level0_row0\" class=\"row_heading level0 row0\" >0</th>\n",
       "      <td id=\"T_98c76_row0_col0\" class=\"data row0 col0\" >13.500000</td>\n",
       "      <td id=\"T_98c76_row0_col1\" class=\"data row0 col1\" >51.500000</td>\n",
       "      <td id=\"T_98c76_row0_col2\" class=\"data row0 col2\" >6.195000</td>\n",
       "      <td id=\"T_98c76_row0_col3\" class=\"data row0 col3\" >62.000000</td>\n",
       "      <td id=\"T_98c76_row0_col4\" class=\"data row0 col4\" >15300.000000</td>\n",
       "      <td id=\"T_98c76_row0_col5\" class=\"data row0 col5\" >2.750000</td>\n",
       "      <td id=\"T_98c76_row0_col6\" class=\"data row0 col6\" >74.300000</td>\n",
       "      <td id=\"T_98c76_row0_col7\" class=\"data row0 col7\" >1.910000</td>\n",
       "      <td id=\"T_98c76_row0_col8\" class=\"data row0 col8\" >6970.000000</td>\n",
       "    </tr>\n",
       "    <tr>\n",
       "      <th id=\"T_98c76_level0_row1\" class=\"row_heading level0 row1\" >1</th>\n",
       "      <td id=\"T_98c76_row1_col0\" class=\"data row1 col0\" >4.200000</td>\n",
       "      <td id=\"T_98c76_row1_col1\" class=\"data row1 col1\" >39.700000</td>\n",
       "      <td id=\"T_98c76_row1_col2\" class=\"data row1 col2\" >9.630000</td>\n",
       "      <td id=\"T_98c76_row1_col3\" class=\"data row1 col3\" >35.000000</td>\n",
       "      <td id=\"T_98c76_row1_col4\" class=\"data row1 col4\" >40400.000000</td>\n",
       "      <td id=\"T_98c76_row1_col5\" class=\"data row1 col5\" >1.220000</td>\n",
       "      <td id=\"T_98c76_row1_col6\" class=\"data row1 col6\" >80.400000</td>\n",
       "      <td id=\"T_98c76_row1_col7\" class=\"data row1 col7\" >1.860000</td>\n",
       "      <td id=\"T_98c76_row1_col8\" class=\"data row1 col8\" >41900.000000</td>\n",
       "    </tr>\n",
       "    <tr>\n",
       "      <th id=\"T_98c76_level0_row2\" class=\"row_heading level0 row2\" >2</th>\n",
       "      <td id=\"T_98c76_row2_col0\" class=\"data row2 col0\" >90.200000</td>\n",
       "      <td id=\"T_98c76_row2_col1\" class=\"data row2 col1\" >23.800000</td>\n",
       "      <td id=\"T_98c76_row2_col2\" class=\"data row2 col2\" >5.660000</td>\n",
       "      <td id=\"T_98c76_row2_col3\" class=\"data row2 col3\" >40.300000</td>\n",
       "      <td id=\"T_98c76_row2_col4\" class=\"data row2 col4\" >1870.000000</td>\n",
       "      <td id=\"T_98c76_row2_col5\" class=\"data row2 col5\" >8.920000</td>\n",
       "      <td id=\"T_98c76_row2_col6\" class=\"data row2 col6\" >59.500000</td>\n",
       "      <td id=\"T_98c76_row2_col7\" class=\"data row2 col7\" >5.060000</td>\n",
       "      <td id=\"T_98c76_row2_col8\" class=\"data row2 col8\" >897.000000</td>\n",
       "    </tr>\n",
       "    <tr>\n",
       "      <th id=\"T_98c76_level0_row3\" class=\"row_heading level0 row3\" >3</th>\n",
       "      <td id=\"T_98c76_row3_col0\" class=\"data row3 col0\" >19.800000</td>\n",
       "      <td id=\"T_98c76_row3_col1\" class=\"data row3 col1\" >26.900000</td>\n",
       "      <td id=\"T_98c76_row3_col2\" class=\"data row3 col2\" >5.440000</td>\n",
       "      <td id=\"T_98c76_row3_col3\" class=\"data row3 col3\" >31.400000</td>\n",
       "      <td id=\"T_98c76_row3_col4\" class=\"data row3 col4\" >9530.000000</td>\n",
       "      <td id=\"T_98c76_row3_col5\" class=\"data row3 col5\" >8.410000</td>\n",
       "      <td id=\"T_98c76_row3_col6\" class=\"data row3 col6\" >73.300000</td>\n",
       "      <td id=\"T_98c76_row3_col7\" class=\"data row3 col7\" >2.410000</td>\n",
       "      <td id=\"T_98c76_row3_col8\" class=\"data row3 col8\" >4460.000000</td>\n",
       "    </tr>\n",
       "  </tbody>\n",
       "</table>\n"
      ],
      "text/plain": [
       "<pandas.io.formats.style.Styler at 0x1e0f3919fd0>"
      ]
     },
     "execution_count": 56,
     "metadata": {},
     "output_type": "execute_result"
    }
   ],
   "source": [
    "median.style.highlight_max(color=\"lightgreen\")"
   ]
  },
  {
   "cell_type": "code",
   "execution_count": 57,
   "metadata": {},
   "outputs": [
    {
     "data": {
      "text/html": [
       "<style type=\"text/css\">\n",
       "#T_49b4f_row1_col0, #T_49b4f_row1_col5, #T_49b4f_row1_col7, #T_49b4f_row2_col1, #T_49b4f_row2_col4, #T_49b4f_row2_col6, #T_49b4f_row2_col8, #T_49b4f_row3_col2, #T_49b4f_row3_col3 {\n",
       "  background-color: red;\n",
       "}\n",
       "</style>\n",
       "<table id=\"T_49b4f\">\n",
       "  <thead>\n",
       "    <tr>\n",
       "      <th class=\"blank level0\" >&nbsp;</th>\n",
       "      <th id=\"T_49b4f_level0_col0\" class=\"col_heading level0 col0\" >child_mort</th>\n",
       "      <th id=\"T_49b4f_level0_col1\" class=\"col_heading level0 col1\" >exports</th>\n",
       "      <th id=\"T_49b4f_level0_col2\" class=\"col_heading level0 col2\" >health</th>\n",
       "      <th id=\"T_49b4f_level0_col3\" class=\"col_heading level0 col3\" >imports</th>\n",
       "      <th id=\"T_49b4f_level0_col4\" class=\"col_heading level0 col4\" >income</th>\n",
       "      <th id=\"T_49b4f_level0_col5\" class=\"col_heading level0 col5\" >inflation</th>\n",
       "      <th id=\"T_49b4f_level0_col6\" class=\"col_heading level0 col6\" >life_expec</th>\n",
       "      <th id=\"T_49b4f_level0_col7\" class=\"col_heading level0 col7\" >total_fer</th>\n",
       "      <th id=\"T_49b4f_level0_col8\" class=\"col_heading level0 col8\" >gdpp</th>\n",
       "    </tr>\n",
       "    <tr>\n",
       "      <th class=\"index_name level0\" >kmedoLabels</th>\n",
       "      <th class=\"blank col0\" >&nbsp;</th>\n",
       "      <th class=\"blank col1\" >&nbsp;</th>\n",
       "      <th class=\"blank col2\" >&nbsp;</th>\n",
       "      <th class=\"blank col3\" >&nbsp;</th>\n",
       "      <th class=\"blank col4\" >&nbsp;</th>\n",
       "      <th class=\"blank col5\" >&nbsp;</th>\n",
       "      <th class=\"blank col6\" >&nbsp;</th>\n",
       "      <th class=\"blank col7\" >&nbsp;</th>\n",
       "      <th class=\"blank col8\" >&nbsp;</th>\n",
       "    </tr>\n",
       "  </thead>\n",
       "  <tbody>\n",
       "    <tr>\n",
       "      <th id=\"T_49b4f_level0_row0\" class=\"row_heading level0 row0\" >0</th>\n",
       "      <td id=\"T_49b4f_row0_col0\" class=\"data row0 col0\" >13.500000</td>\n",
       "      <td id=\"T_49b4f_row0_col1\" class=\"data row0 col1\" >51.500000</td>\n",
       "      <td id=\"T_49b4f_row0_col2\" class=\"data row0 col2\" >6.195000</td>\n",
       "      <td id=\"T_49b4f_row0_col3\" class=\"data row0 col3\" >62.000000</td>\n",
       "      <td id=\"T_49b4f_row0_col4\" class=\"data row0 col4\" >15300.000000</td>\n",
       "      <td id=\"T_49b4f_row0_col5\" class=\"data row0 col5\" >2.750000</td>\n",
       "      <td id=\"T_49b4f_row0_col6\" class=\"data row0 col6\" >74.300000</td>\n",
       "      <td id=\"T_49b4f_row0_col7\" class=\"data row0 col7\" >1.910000</td>\n",
       "      <td id=\"T_49b4f_row0_col8\" class=\"data row0 col8\" >6970.000000</td>\n",
       "    </tr>\n",
       "    <tr>\n",
       "      <th id=\"T_49b4f_level0_row1\" class=\"row_heading level0 row1\" >1</th>\n",
       "      <td id=\"T_49b4f_row1_col0\" class=\"data row1 col0\" >4.200000</td>\n",
       "      <td id=\"T_49b4f_row1_col1\" class=\"data row1 col1\" >39.700000</td>\n",
       "      <td id=\"T_49b4f_row1_col2\" class=\"data row1 col2\" >9.630000</td>\n",
       "      <td id=\"T_49b4f_row1_col3\" class=\"data row1 col3\" >35.000000</td>\n",
       "      <td id=\"T_49b4f_row1_col4\" class=\"data row1 col4\" >40400.000000</td>\n",
       "      <td id=\"T_49b4f_row1_col5\" class=\"data row1 col5\" >1.220000</td>\n",
       "      <td id=\"T_49b4f_row1_col6\" class=\"data row1 col6\" >80.400000</td>\n",
       "      <td id=\"T_49b4f_row1_col7\" class=\"data row1 col7\" >1.860000</td>\n",
       "      <td id=\"T_49b4f_row1_col8\" class=\"data row1 col8\" >41900.000000</td>\n",
       "    </tr>\n",
       "    <tr>\n",
       "      <th id=\"T_49b4f_level0_row2\" class=\"row_heading level0 row2\" >2</th>\n",
       "      <td id=\"T_49b4f_row2_col0\" class=\"data row2 col0\" >90.200000</td>\n",
       "      <td id=\"T_49b4f_row2_col1\" class=\"data row2 col1\" >23.800000</td>\n",
       "      <td id=\"T_49b4f_row2_col2\" class=\"data row2 col2\" >5.660000</td>\n",
       "      <td id=\"T_49b4f_row2_col3\" class=\"data row2 col3\" >40.300000</td>\n",
       "      <td id=\"T_49b4f_row2_col4\" class=\"data row2 col4\" >1870.000000</td>\n",
       "      <td id=\"T_49b4f_row2_col5\" class=\"data row2 col5\" >8.920000</td>\n",
       "      <td id=\"T_49b4f_row2_col6\" class=\"data row2 col6\" >59.500000</td>\n",
       "      <td id=\"T_49b4f_row2_col7\" class=\"data row2 col7\" >5.060000</td>\n",
       "      <td id=\"T_49b4f_row2_col8\" class=\"data row2 col8\" >897.000000</td>\n",
       "    </tr>\n",
       "    <tr>\n",
       "      <th id=\"T_49b4f_level0_row3\" class=\"row_heading level0 row3\" >3</th>\n",
       "      <td id=\"T_49b4f_row3_col0\" class=\"data row3 col0\" >19.800000</td>\n",
       "      <td id=\"T_49b4f_row3_col1\" class=\"data row3 col1\" >26.900000</td>\n",
       "      <td id=\"T_49b4f_row3_col2\" class=\"data row3 col2\" >5.440000</td>\n",
       "      <td id=\"T_49b4f_row3_col3\" class=\"data row3 col3\" >31.400000</td>\n",
       "      <td id=\"T_49b4f_row3_col4\" class=\"data row3 col4\" >9530.000000</td>\n",
       "      <td id=\"T_49b4f_row3_col5\" class=\"data row3 col5\" >8.410000</td>\n",
       "      <td id=\"T_49b4f_row3_col6\" class=\"data row3 col6\" >73.300000</td>\n",
       "      <td id=\"T_49b4f_row3_col7\" class=\"data row3 col7\" >2.410000</td>\n",
       "      <td id=\"T_49b4f_row3_col8\" class=\"data row3 col8\" >4460.000000</td>\n",
       "    </tr>\n",
       "  </tbody>\n",
       "</table>\n"
      ],
      "text/plain": [
       "<pandas.io.formats.style.Styler at 0x1e0f390ea00>"
      ]
     },
     "execution_count": 57,
     "metadata": {},
     "output_type": "execute_result"
    }
   ],
   "source": [
    "median.style.highlight_min(color='red')"
   ]
  },
  {
   "cell_type": "code",
   "execution_count": 47,
   "metadata": {
    "scrolled": true
   },
   "outputs": [
    {
     "data": {
      "text/plain": [
       "['Antigua and Barbuda',\n",
       " 'Australia',\n",
       " 'Austria',\n",
       " 'Bahamas',\n",
       " 'Bahrain',\n",
       " 'Barbados',\n",
       " 'Belarus',\n",
       " 'Belgium',\n",
       " 'Belize',\n",
       " 'Bhutan',\n",
       " 'Bosnia and Herzegovina',\n",
       " 'Brunei',\n",
       " 'Bulgaria',\n",
       " 'Cambodia',\n",
       " 'Canada',\n",
       " 'Cape Verde',\n",
       " 'Croatia',\n",
       " 'Cyprus',\n",
       " 'Czech Republic',\n",
       " 'Denmark',\n",
       " 'Estonia',\n",
       " 'Fiji',\n",
       " 'Finland',\n",
       " 'France',\n",
       " 'Germany',\n",
       " 'Greece',\n",
       " 'Guyana',\n",
       " 'Hungary',\n",
       " 'Iceland',\n",
       " 'Ireland',\n",
       " 'Israel',\n",
       " 'Italy',\n",
       " 'Jordan',\n",
       " 'Kuwait',\n",
       " 'Kyrgyz Republic',\n",
       " 'Latvia',\n",
       " 'Lebanon',\n",
       " 'Libya',\n",
       " 'Lithuania',\n",
       " 'Luxembourg',\n",
       " 'Macedonia, FYR',\n",
       " 'Malaysia',\n",
       " 'Maldives',\n",
       " 'Malta',\n",
       " 'Mauritius',\n",
       " 'Moldova',\n",
       " 'Montenegro',\n",
       " 'Netherlands',\n",
       " 'New Zealand',\n",
       " 'Norway',\n",
       " 'Oman',\n",
       " 'Panama',\n",
       " 'Paraguay',\n",
       " 'Poland',\n",
       " 'Portugal',\n",
       " 'Qatar',\n",
       " 'Saudi Arabia',\n",
       " 'Serbia',\n",
       " 'Seychelles',\n",
       " 'Singapore',\n",
       " 'Slovak Republic',\n",
       " 'Slovenia',\n",
       " 'Solomon Islands',\n",
       " 'South Korea',\n",
       " 'Spain',\n",
       " 'St. Vincent and the Grenadines',\n",
       " 'Sweden',\n",
       " 'Switzerland',\n",
       " 'Thailand',\n",
       " 'Tunisia',\n",
       " 'Turkmenistan',\n",
       " 'Ukraine',\n",
       " 'United Arab Emirates',\n",
       " 'United Kingdom',\n",
       " 'Vietnam']"
      ]
     },
     "execution_count": 47,
     "metadata": {},
     "output_type": "execute_result"
    }
   ],
   "source": [
    "data[data['kmedoLabels']==0]['country'].to_list()"
   ]
  },
  {
   "cell_type": "code",
   "execution_count": 48,
   "metadata": {},
   "outputs": [
    {
     "data": {
      "text/plain": [
       "0    75\n",
       "1    47\n",
       "2    45\n",
       "Name: kmedoLabels, dtype: int64"
      ]
     },
     "execution_count": 48,
     "metadata": {},
     "output_type": "execute_result"
    }
   ],
   "source": [
    "data.kmedoLabels.value_counts()"
   ]
  },
  {
   "cell_type": "code",
   "execution_count": 39,
   "metadata": {},
   "outputs": [
    {
     "data": {
      "text/html": [
       "<style type=\"text/css\">\n",
       "#T_a8c95_row0_col1, #T_a8c95_row0_col3, #T_a8c95_row1_col2, #T_a8c95_row1_col4, #T_a8c95_row1_col6, #T_a8c95_row1_col8, #T_a8c95_row2_col0, #T_a8c95_row2_col5, #T_a8c95_row2_col7 {\n",
       "  background-color: lightgreen;\n",
       "}\n",
       "</style>\n",
       "<table id=\"T_a8c95\">\n",
       "  <thead>\n",
       "    <tr>\n",
       "      <th class=\"blank level0\" >&nbsp;</th>\n",
       "      <th id=\"T_a8c95_level0_col0\" class=\"col_heading level0 col0\" >child_mort</th>\n",
       "      <th id=\"T_a8c95_level0_col1\" class=\"col_heading level0 col1\" >exports</th>\n",
       "      <th id=\"T_a8c95_level0_col2\" class=\"col_heading level0 col2\" >health</th>\n",
       "      <th id=\"T_a8c95_level0_col3\" class=\"col_heading level0 col3\" >imports</th>\n",
       "      <th id=\"T_a8c95_level0_col4\" class=\"col_heading level0 col4\" >income</th>\n",
       "      <th id=\"T_a8c95_level0_col5\" class=\"col_heading level0 col5\" >inflation</th>\n",
       "      <th id=\"T_a8c95_level0_col6\" class=\"col_heading level0 col6\" >life_expec</th>\n",
       "      <th id=\"T_a8c95_level0_col7\" class=\"col_heading level0 col7\" >total_fer</th>\n",
       "      <th id=\"T_a8c95_level0_col8\" class=\"col_heading level0 col8\" >gdpp</th>\n",
       "    </tr>\n",
       "    <tr>\n",
       "      <th class=\"index_name level0\" >kmedoLabels</th>\n",
       "      <th class=\"blank col0\" >&nbsp;</th>\n",
       "      <th class=\"blank col1\" >&nbsp;</th>\n",
       "      <th class=\"blank col2\" >&nbsp;</th>\n",
       "      <th class=\"blank col3\" >&nbsp;</th>\n",
       "      <th class=\"blank col4\" >&nbsp;</th>\n",
       "      <th class=\"blank col5\" >&nbsp;</th>\n",
       "      <th class=\"blank col6\" >&nbsp;</th>\n",
       "      <th class=\"blank col7\" >&nbsp;</th>\n",
       "      <th class=\"blank col8\" >&nbsp;</th>\n",
       "    </tr>\n",
       "  </thead>\n",
       "  <tbody>\n",
       "    <tr>\n",
       "      <th id=\"T_a8c95_level0_row0\" class=\"row_heading level0 row0\" >0</th>\n",
       "      <td id=\"T_a8c95_row0_col0\" class=\"data row0 col0\" >13.500000</td>\n",
       "      <td id=\"T_a8c95_row0_col1\" class=\"data row0 col1\" >51.500000</td>\n",
       "      <td id=\"T_a8c95_row0_col2\" class=\"data row0 col2\" >6.195000</td>\n",
       "      <td id=\"T_a8c95_row0_col3\" class=\"data row0 col3\" >62.000000</td>\n",
       "      <td id=\"T_a8c95_row0_col4\" class=\"data row0 col4\" >15300.000000</td>\n",
       "      <td id=\"T_a8c95_row0_col5\" class=\"data row0 col5\" >2.750000</td>\n",
       "      <td id=\"T_a8c95_row0_col6\" class=\"data row0 col6\" >74.300000</td>\n",
       "      <td id=\"T_a8c95_row0_col7\" class=\"data row0 col7\" >1.910000</td>\n",
       "      <td id=\"T_a8c95_row0_col8\" class=\"data row0 col8\" >6970.000000</td>\n",
       "    </tr>\n",
       "    <tr>\n",
       "      <th id=\"T_a8c95_level0_row1\" class=\"row_heading level0 row1\" >1</th>\n",
       "      <td id=\"T_a8c95_row1_col0\" class=\"data row1 col0\" >4.200000</td>\n",
       "      <td id=\"T_a8c95_row1_col1\" class=\"data row1 col1\" >39.700000</td>\n",
       "      <td id=\"T_a8c95_row1_col2\" class=\"data row1 col2\" >9.630000</td>\n",
       "      <td id=\"T_a8c95_row1_col3\" class=\"data row1 col3\" >35.000000</td>\n",
       "      <td id=\"T_a8c95_row1_col4\" class=\"data row1 col4\" >40400.000000</td>\n",
       "      <td id=\"T_a8c95_row1_col5\" class=\"data row1 col5\" >1.220000</td>\n",
       "      <td id=\"T_a8c95_row1_col6\" class=\"data row1 col6\" >80.400000</td>\n",
       "      <td id=\"T_a8c95_row1_col7\" class=\"data row1 col7\" >1.860000</td>\n",
       "      <td id=\"T_a8c95_row1_col8\" class=\"data row1 col8\" >41900.000000</td>\n",
       "    </tr>\n",
       "    <tr>\n",
       "      <th id=\"T_a8c95_level0_row2\" class=\"row_heading level0 row2\" >2</th>\n",
       "      <td id=\"T_a8c95_row2_col0\" class=\"data row2 col0\" >90.200000</td>\n",
       "      <td id=\"T_a8c95_row2_col1\" class=\"data row2 col1\" >23.800000</td>\n",
       "      <td id=\"T_a8c95_row2_col2\" class=\"data row2 col2\" >5.660000</td>\n",
       "      <td id=\"T_a8c95_row2_col3\" class=\"data row2 col3\" >40.300000</td>\n",
       "      <td id=\"T_a8c95_row2_col4\" class=\"data row2 col4\" >1870.000000</td>\n",
       "      <td id=\"T_a8c95_row2_col5\" class=\"data row2 col5\" >8.920000</td>\n",
       "      <td id=\"T_a8c95_row2_col6\" class=\"data row2 col6\" >59.500000</td>\n",
       "      <td id=\"T_a8c95_row2_col7\" class=\"data row2 col7\" >5.060000</td>\n",
       "      <td id=\"T_a8c95_row2_col8\" class=\"data row2 col8\" >897.000000</td>\n",
       "    </tr>\n",
       "    <tr>\n",
       "      <th id=\"T_a8c95_level0_row3\" class=\"row_heading level0 row3\" >3</th>\n",
       "      <td id=\"T_a8c95_row3_col0\" class=\"data row3 col0\" >19.800000</td>\n",
       "      <td id=\"T_a8c95_row3_col1\" class=\"data row3 col1\" >26.900000</td>\n",
       "      <td id=\"T_a8c95_row3_col2\" class=\"data row3 col2\" >5.440000</td>\n",
       "      <td id=\"T_a8c95_row3_col3\" class=\"data row3 col3\" >31.400000</td>\n",
       "      <td id=\"T_a8c95_row3_col4\" class=\"data row3 col4\" >9530.000000</td>\n",
       "      <td id=\"T_a8c95_row3_col5\" class=\"data row3 col5\" >8.410000</td>\n",
       "      <td id=\"T_a8c95_row3_col6\" class=\"data row3 col6\" >73.300000</td>\n",
       "      <td id=\"T_a8c95_row3_col7\" class=\"data row3 col7\" >2.410000</td>\n",
       "      <td id=\"T_a8c95_row3_col8\" class=\"data row3 col8\" >4460.000000</td>\n",
       "    </tr>\n",
       "  </tbody>\n",
       "</table>\n"
      ],
      "text/plain": [
       "<pandas.io.formats.style.Styler at 0x1d3bf810850>"
      ]
     },
     "execution_count": 39,
     "metadata": {},
     "output_type": "execute_result"
    }
   ],
   "source": [
    "median.style.highlight_max(color=\"lightgreen\")"
   ]
  },
  {
   "cell_type": "markdown",
   "metadata": {
    "id": "2Nk81vD8lEfB"
   },
   "source": [
    "**Observations:**\n",
    "\n",
    "It looks like Cluster 0 is of very rich countries with high income and gdpp, Cluster 2 is of very poor countries with low income and gdp and the rest are in cluster 1, which happens to be the biggest cluster as well. So intuitively this makes sense but let's try to visualize the boxplots of different attributes for each cluster to see if we can spot some more granular patterns.  "
   ]
  },
  {
   "cell_type": "markdown",
   "metadata": {
    "id": "ulTmABYnWl96"
   },
   "source": [
    "**Cluster Profiles:** \n",
    "\n",
    "- Cluster 2 countries have the highest average child mortality rate, trade deficit, inflation rate and least average GDP and net income per person. But the large range of values for different variables implies it contains variety of countries from **underdeveloped to developing**. For example, Afghanistan, Bangladesh, Botswana.\n",
    "- Cluster 1 shows traits of **developing countries** with comparatively higher GDP, net income per person and significantly lower child mortality rate as compared to cluster 2. The cluster consists of some outliers but majorly it consists of countries with low to medium GDP but comparatively higher imports and exports percentage. For example, Albania, Algeria, Antigua and Barbuda.\n",
    "- Cluster 0 shows traits of **developed countries** with low child mortality rate and higher net income per person, life expectancy, GDP. These countries have the highest average expenditure on health as percentage of GDP. For example, Australia, Austria, Belgium.\n",
    "\n",
    "**Observations:**\n",
    "\n",
    "- The count of observations in each clusters from K-Medoids is more evenly distributed as compared to clusters K-Means.\n",
    "- This is because clusters from K_Medoids are less affected by outliers in the data. As we can observe that three outlier countries (in terms of imports and exports) are included in cluster 1 and do not form a separate cluster like in K-Means.\n",
    "- Unlike K-Means, the cluster for developed countries is much bigger but still retains the overall characteristics of developed countries as reflected in higher values for income per person, life expectancy etc. and especially in health expenditure as percentage of GDP.\n",
    "\n",
    "Now, let's see what we get with GMM"
   ]
  },
  {
   "cell_type": "markdown",
   "metadata": {
    "id": "iLPn-8hClfv6"
   },
   "source": [
    "## Gaussian Mixture Clustering"
   ]
  },
  {
   "cell_type": "code",
   "execution_count": 68,
   "metadata": {
    "id": "X6mn1LTclfv6"
   },
   "outputs": [],
   "source": [
    "gmm = GaussianMixture(n_components = 4, random_state = 1)\n",
    "gmm.fit(data_scaled)\n",
    "\n",
    "data_scaled_copy['GmmLabels'] = gmm.predict(data_scaled)\n",
    "data['GmmLabels'] = gmm.predict(data_scaled)"
   ]
  },
  {
   "cell_type": "code",
   "execution_count": 69,
   "metadata": {
    "colab": {
     "base_uri": "https://localhost:8080/"
    },
    "id": "ZvJgndVUlfv6",
    "outputId": "8933b42a-e779-400d-d262-999e156a8dd2"
   },
   "outputs": [
    {
     "data": {
      "text/plain": [
       "0    56\n",
       "2    53\n",
       "1    47\n",
       "3    11\n",
       "Name: GmmLabels, dtype: int64"
      ]
     },
     "execution_count": 69,
     "metadata": {},
     "output_type": "execute_result"
    }
   ],
   "source": [
    "data.GmmLabels.value_counts()"
   ]
  },
  {
   "cell_type": "code",
   "execution_count": 71,
   "metadata": {
    "scrolled": true
   },
   "outputs": [
    {
     "data": {
      "text/plain": [
       "['Bahrain',\n",
       " 'Brunei',\n",
       " 'Ireland',\n",
       " 'Kuwait',\n",
       " 'Luxembourg',\n",
       " 'Malaysia',\n",
       " 'Malta',\n",
       " 'Qatar',\n",
       " 'Seychelles',\n",
       " 'Singapore',\n",
       " 'United Arab Emirates']"
      ]
     },
     "execution_count": 71,
     "metadata": {},
     "output_type": "execute_result"
    }
   ],
   "source": [
    "data[data.GmmLabels==3]['country'].to_list()"
   ]
  },
  {
   "cell_type": "code",
   "execution_count": 60,
   "metadata": {},
   "outputs": [
    {
     "data": {
      "text/html": [
       "<div>\n",
       "<style scoped>\n",
       "    .dataframe tbody tr th:only-of-type {\n",
       "        vertical-align: middle;\n",
       "    }\n",
       "\n",
       "    .dataframe tbody tr th {\n",
       "        vertical-align: top;\n",
       "    }\n",
       "\n",
       "    .dataframe thead th {\n",
       "        text-align: right;\n",
       "    }\n",
       "</style>\n",
       "<table border=\"1\" class=\"dataframe\">\n",
       "  <thead>\n",
       "    <tr style=\"text-align: right;\">\n",
       "      <th></th>\n",
       "      <th>country</th>\n",
       "      <th>child_mort</th>\n",
       "      <th>exports</th>\n",
       "      <th>health</th>\n",
       "      <th>imports</th>\n",
       "      <th>income</th>\n",
       "      <th>inflation</th>\n",
       "      <th>life_expec</th>\n",
       "      <th>total_fer</th>\n",
       "      <th>gdpp</th>\n",
       "      <th>KMeans_Labels</th>\n",
       "      <th>kmedoLabels</th>\n",
       "      <th>GmmLabels</th>\n",
       "    </tr>\n",
       "  </thead>\n",
       "  <tbody>\n",
       "    <tr>\n",
       "      <th>0</th>\n",
       "      <td>Afghanistan</td>\n",
       "      <td>90.2</td>\n",
       "      <td>10.0</td>\n",
       "      <td>7.58</td>\n",
       "      <td>44.9</td>\n",
       "      <td>1610</td>\n",
       "      <td>9.44</td>\n",
       "      <td>56.2</td>\n",
       "      <td>5.82</td>\n",
       "      <td>553</td>\n",
       "      <td>1</td>\n",
       "      <td>1</td>\n",
       "      <td>0</td>\n",
       "    </tr>\n",
       "    <tr>\n",
       "      <th>1</th>\n",
       "      <td>Albania</td>\n",
       "      <td>16.6</td>\n",
       "      <td>28.0</td>\n",
       "      <td>6.55</td>\n",
       "      <td>48.6</td>\n",
       "      <td>9930</td>\n",
       "      <td>4.49</td>\n",
       "      <td>76.3</td>\n",
       "      <td>1.65</td>\n",
       "      <td>4090</td>\n",
       "      <td>3</td>\n",
       "      <td>2</td>\n",
       "      <td>1</td>\n",
       "    </tr>\n",
       "    <tr>\n",
       "      <th>2</th>\n",
       "      <td>Algeria</td>\n",
       "      <td>27.3</td>\n",
       "      <td>38.4</td>\n",
       "      <td>4.17</td>\n",
       "      <td>31.4</td>\n",
       "      <td>12900</td>\n",
       "      <td>16.10</td>\n",
       "      <td>76.5</td>\n",
       "      <td>2.89</td>\n",
       "      <td>4460</td>\n",
       "      <td>3</td>\n",
       "      <td>2</td>\n",
       "      <td>3</td>\n",
       "    </tr>\n",
       "    <tr>\n",
       "      <th>3</th>\n",
       "      <td>Angola</td>\n",
       "      <td>119.0</td>\n",
       "      <td>62.3</td>\n",
       "      <td>2.85</td>\n",
       "      <td>42.9</td>\n",
       "      <td>5900</td>\n",
       "      <td>22.40</td>\n",
       "      <td>60.1</td>\n",
       "      <td>6.16</td>\n",
       "      <td>3530</td>\n",
       "      <td>1</td>\n",
       "      <td>1</td>\n",
       "      <td>0</td>\n",
       "    </tr>\n",
       "    <tr>\n",
       "      <th>4</th>\n",
       "      <td>Antigua and Barbuda</td>\n",
       "      <td>10.3</td>\n",
       "      <td>45.5</td>\n",
       "      <td>6.03</td>\n",
       "      <td>58.9</td>\n",
       "      <td>19100</td>\n",
       "      <td>1.44</td>\n",
       "      <td>76.8</td>\n",
       "      <td>2.13</td>\n",
       "      <td>12200</td>\n",
       "      <td>3</td>\n",
       "      <td>3</td>\n",
       "      <td>1</td>\n",
       "    </tr>\n",
       "  </tbody>\n",
       "</table>\n",
       "</div>"
      ],
      "text/plain": [
       "               country  child_mort  exports  health  imports  income  \\\n",
       "0          Afghanistan        90.2     10.0    7.58     44.9    1610   \n",
       "1              Albania        16.6     28.0    6.55     48.6    9930   \n",
       "2              Algeria        27.3     38.4    4.17     31.4   12900   \n",
       "3               Angola       119.0     62.3    2.85     42.9    5900   \n",
       "4  Antigua and Barbuda        10.3     45.5    6.03     58.9   19100   \n",
       "\n",
       "   inflation  life_expec  total_fer   gdpp  KMeans_Labels  kmedoLabels  \\\n",
       "0       9.44        56.2       5.82    553              1            1   \n",
       "1       4.49        76.3       1.65   4090              3            2   \n",
       "2      16.10        76.5       2.89   4460              3            2   \n",
       "3      22.40        60.1       6.16   3530              1            1   \n",
       "4       1.44        76.8       2.13  12200              3            3   \n",
       "\n",
       "   GmmLabels  \n",
       "0          0  \n",
       "1          1  \n",
       "2          3  \n",
       "3          0  \n",
       "4          1  "
      ]
     },
     "execution_count": 60,
     "metadata": {},
     "output_type": "execute_result"
    }
   ],
   "source": [
    "data.head()"
   ]
  },
  {
   "cell_type": "code",
   "execution_count": 72,
   "metadata": {
    "colab": {
     "base_uri": "https://localhost:8080/",
     "height": 327
    },
    "id": "IG68ufrvlfv6",
    "outputId": "e461263c-986b-4cdb-f770-fac06651a611"
   },
   "outputs": [],
   "source": [
    "#Calculating mean and median of the original data for each label\n",
    "original_features = ['child_mort', 'exports', 'health', 'imports', 'income', 'inflation', 'life_expec', 'total_fer', 'gdpp']\n",
    "\n",
    "mean = data.groupby('GmmLabels')[original_features].mean()\n",
    "median = data.groupby('GmmLabels')[original_features].median()"
   ]
  },
  {
   "cell_type": "code",
   "execution_count": 73,
   "metadata": {},
   "outputs": [
    {
     "data": {
      "text/html": [
       "<style type=\"text/css\">\n",
       "#T_a3c54_row0_col0, #T_a3c54_row0_col5, #T_a3c54_row0_col7, #T_a3c54_row2_col2, #T_a3c54_row3_col1, #T_a3c54_row3_col3, #T_a3c54_row3_col4, #T_a3c54_row3_col6, #T_a3c54_row3_col8 {\n",
       "  background-color: lightgreen;\n",
       "}\n",
       "</style>\n",
       "<table id=\"T_a3c54\">\n",
       "  <thead>\n",
       "    <tr>\n",
       "      <th class=\"blank level0\" >&nbsp;</th>\n",
       "      <th id=\"T_a3c54_level0_col0\" class=\"col_heading level0 col0\" >child_mort</th>\n",
       "      <th id=\"T_a3c54_level0_col1\" class=\"col_heading level0 col1\" >exports</th>\n",
       "      <th id=\"T_a3c54_level0_col2\" class=\"col_heading level0 col2\" >health</th>\n",
       "      <th id=\"T_a3c54_level0_col3\" class=\"col_heading level0 col3\" >imports</th>\n",
       "      <th id=\"T_a3c54_level0_col4\" class=\"col_heading level0 col4\" >income</th>\n",
       "      <th id=\"T_a3c54_level0_col5\" class=\"col_heading level0 col5\" >inflation</th>\n",
       "      <th id=\"T_a3c54_level0_col6\" class=\"col_heading level0 col6\" >life_expec</th>\n",
       "      <th id=\"T_a3c54_level0_col7\" class=\"col_heading level0 col7\" >total_fer</th>\n",
       "      <th id=\"T_a3c54_level0_col8\" class=\"col_heading level0 col8\" >gdpp</th>\n",
       "    </tr>\n",
       "    <tr>\n",
       "      <th class=\"index_name level0\" >GmmLabels</th>\n",
       "      <th class=\"blank col0\" >&nbsp;</th>\n",
       "      <th class=\"blank col1\" >&nbsp;</th>\n",
       "      <th class=\"blank col2\" >&nbsp;</th>\n",
       "      <th class=\"blank col3\" >&nbsp;</th>\n",
       "      <th class=\"blank col4\" >&nbsp;</th>\n",
       "      <th class=\"blank col5\" >&nbsp;</th>\n",
       "      <th class=\"blank col6\" >&nbsp;</th>\n",
       "      <th class=\"blank col7\" >&nbsp;</th>\n",
       "      <th class=\"blank col8\" >&nbsp;</th>\n",
       "    </tr>\n",
       "  </thead>\n",
       "  <tbody>\n",
       "    <tr>\n",
       "      <th id=\"T_a3c54_level0_row0\" class=\"row_heading level0 row0\" >0</th>\n",
       "      <td id=\"T_a3c54_row0_col0\" class=\"data row0 col0\" >82.314286</td>\n",
       "      <td id=\"T_a3c54_row0_col1\" class=\"data row0 col1\" >29.300179</td>\n",
       "      <td id=\"T_a3c54_row0_col2\" class=\"data row0 col2\" >6.411964</td>\n",
       "      <td id=\"T_a3c54_row0_col3\" class=\"data row0 col3\" >44.235714</td>\n",
       "      <td id=\"T_a3c54_row0_col4\" class=\"data row0 col4\" >4261.125000</td>\n",
       "      <td id=\"T_a3c54_row0_col5\" class=\"data row0 col5\" >12.570625</td>\n",
       "      <td id=\"T_a3c54_row0_col6\" class=\"data row0 col6\" >60.694643</td>\n",
       "      <td id=\"T_a3c54_row0_col7\" class=\"data row0 col7\" >4.743750</td>\n",
       "      <td id=\"T_a3c54_row0_col8\" class=\"data row0 col8\" >2217.321429</td>\n",
       "    </tr>\n",
       "    <tr>\n",
       "      <th id=\"T_a3c54_level0_row1\" class=\"row_heading level0 row1\" >1</th>\n",
       "      <td id=\"T_a3c54_row1_col0\" class=\"data row1 col0\" >27.265957</td>\n",
       "      <td id=\"T_a3c54_row1_col1\" class=\"data row1 col1\" >39.627426</td>\n",
       "      <td id=\"T_a3c54_row1_col2\" class=\"data row1 col2\" >5.392128</td>\n",
       "      <td id=\"T_a3c54_row1_col3\" class=\"data row1 col3\" >43.316296</td>\n",
       "      <td id=\"T_a3c54_row1_col4\" class=\"data row1 col4\" >11770.638298</td>\n",
       "      <td id=\"T_a3c54_row1_col5\" class=\"data row1 col5\" >8.593000</td>\n",
       "      <td id=\"T_a3c54_row1_col6\" class=\"data row1 col6\" >72.274468</td>\n",
       "      <td id=\"T_a3c54_row1_col7\" class=\"data row1 col7\" >2.505319</td>\n",
       "      <td id=\"T_a3c54_row1_col8\" class=\"data row1 col8\" >5670.936170</td>\n",
       "    </tr>\n",
       "    <tr>\n",
       "      <th id=\"T_a3c54_level0_row2\" class=\"row_heading level0 row2\" >2</th>\n",
       "      <td id=\"T_a3c54_row2_col0\" class=\"data row2 col0\" >7.803774</td>\n",
       "      <td id=\"T_a3c54_row2_col1\" class=\"data row2 col1\" >41.633962</td>\n",
       "      <td id=\"T_a3c54_row2_col2\" class=\"data row2 col2\" >8.914151</td>\n",
       "      <td id=\"T_a3c54_row2_col3\" class=\"data row2 col3\" >45.007547</td>\n",
       "      <td id=\"T_a3c54_row2_col4\" class=\"data row2 col4\" >26651.320755</td>\n",
       "      <td id=\"T_a3c54_row2_col5\" class=\"data row2 col5\" >2.446717</td>\n",
       "      <td id=\"T_a3c54_row2_col6\" class=\"data row2 col6\" >77.869811</td>\n",
       "      <td id=\"T_a3c54_row2_col7\" class=\"data row2 col7\" >1.665094</td>\n",
       "      <td id=\"T_a3c54_row2_col8\" class=\"data row2 col8\" >25155.471698</td>\n",
       "    </tr>\n",
       "    <tr>\n",
       "      <th id=\"T_a3c54_level0_row3\" class=\"row_heading level0 row3\" >3</th>\n",
       "      <td id=\"T_a3c54_row3_col0\" class=\"data row3 col0\" >7.854545</td>\n",
       "      <td id=\"T_a3c54_row3_col1\" class=\"data row3 col1\" >105.027273</td>\n",
       "      <td id=\"T_a3c54_row3_col2\" class=\"data row3 col2\" >4.842727</td>\n",
       "      <td id=\"T_a3c54_row3_col3\" class=\"data row3 col3\" >84.745455</td>\n",
       "      <td id=\"T_a3c54_row3_col4\" class=\"data row3 col4\" >59890.909091</td>\n",
       "      <td id=\"T_a3c54_row3_col5\" class=\"data row3 col5\" >5.642182</td>\n",
       "      <td id=\"T_a3c54_row3_col6\" class=\"data row3 col6\" >78.172727</td>\n",
       "      <td id=\"T_a3c54_row3_col7\" class=\"data row3 col7\" >1.878182</td>\n",
       "      <td id=\"T_a3c54_row3_col8\" class=\"data row3 col8\" >40097.272727</td>\n",
       "    </tr>\n",
       "  </tbody>\n",
       "</table>\n"
      ],
      "text/plain": [
       "<pandas.io.formats.style.Styler at 0x1e0f3e76250>"
      ]
     },
     "execution_count": 73,
     "metadata": {},
     "output_type": "execute_result"
    }
   ],
   "source": [
    "mean.style.highlight_max(color=\"lightgreen\")"
   ]
  },
  {
   "cell_type": "code",
   "execution_count": 74,
   "metadata": {},
   "outputs": [
    {
     "data": {
      "text/html": [
       "<style type=\"text/css\">\n",
       "#T_bb3b3_row0_col1, #T_bb3b3_row0_col4, #T_bb3b3_row0_col6, #T_bb3b3_row0_col8, #T_bb3b3_row1_col3, #T_bb3b3_row2_col0, #T_bb3b3_row2_col5, #T_bb3b3_row2_col7, #T_bb3b3_row3_col2 {\n",
       "  background-color: red;\n",
       "}\n",
       "</style>\n",
       "<table id=\"T_bb3b3\">\n",
       "  <thead>\n",
       "    <tr>\n",
       "      <th class=\"blank level0\" >&nbsp;</th>\n",
       "      <th id=\"T_bb3b3_level0_col0\" class=\"col_heading level0 col0\" >child_mort</th>\n",
       "      <th id=\"T_bb3b3_level0_col1\" class=\"col_heading level0 col1\" >exports</th>\n",
       "      <th id=\"T_bb3b3_level0_col2\" class=\"col_heading level0 col2\" >health</th>\n",
       "      <th id=\"T_bb3b3_level0_col3\" class=\"col_heading level0 col3\" >imports</th>\n",
       "      <th id=\"T_bb3b3_level0_col4\" class=\"col_heading level0 col4\" >income</th>\n",
       "      <th id=\"T_bb3b3_level0_col5\" class=\"col_heading level0 col5\" >inflation</th>\n",
       "      <th id=\"T_bb3b3_level0_col6\" class=\"col_heading level0 col6\" >life_expec</th>\n",
       "      <th id=\"T_bb3b3_level0_col7\" class=\"col_heading level0 col7\" >total_fer</th>\n",
       "      <th id=\"T_bb3b3_level0_col8\" class=\"col_heading level0 col8\" >gdpp</th>\n",
       "    </tr>\n",
       "    <tr>\n",
       "      <th class=\"index_name level0\" >GmmLabels</th>\n",
       "      <th class=\"blank col0\" >&nbsp;</th>\n",
       "      <th class=\"blank col1\" >&nbsp;</th>\n",
       "      <th class=\"blank col2\" >&nbsp;</th>\n",
       "      <th class=\"blank col3\" >&nbsp;</th>\n",
       "      <th class=\"blank col4\" >&nbsp;</th>\n",
       "      <th class=\"blank col5\" >&nbsp;</th>\n",
       "      <th class=\"blank col6\" >&nbsp;</th>\n",
       "      <th class=\"blank col7\" >&nbsp;</th>\n",
       "      <th class=\"blank col8\" >&nbsp;</th>\n",
       "    </tr>\n",
       "  </thead>\n",
       "  <tbody>\n",
       "    <tr>\n",
       "      <th id=\"T_bb3b3_level0_row0\" class=\"row_heading level0 row0\" >0</th>\n",
       "      <td id=\"T_bb3b3_row0_col0\" class=\"data row0 col0\" >82.314286</td>\n",
       "      <td id=\"T_bb3b3_row0_col1\" class=\"data row0 col1\" >29.300179</td>\n",
       "      <td id=\"T_bb3b3_row0_col2\" class=\"data row0 col2\" >6.411964</td>\n",
       "      <td id=\"T_bb3b3_row0_col3\" class=\"data row0 col3\" >44.235714</td>\n",
       "      <td id=\"T_bb3b3_row0_col4\" class=\"data row0 col4\" >4261.125000</td>\n",
       "      <td id=\"T_bb3b3_row0_col5\" class=\"data row0 col5\" >12.570625</td>\n",
       "      <td id=\"T_bb3b3_row0_col6\" class=\"data row0 col6\" >60.694643</td>\n",
       "      <td id=\"T_bb3b3_row0_col7\" class=\"data row0 col7\" >4.743750</td>\n",
       "      <td id=\"T_bb3b3_row0_col8\" class=\"data row0 col8\" >2217.321429</td>\n",
       "    </tr>\n",
       "    <tr>\n",
       "      <th id=\"T_bb3b3_level0_row1\" class=\"row_heading level0 row1\" >1</th>\n",
       "      <td id=\"T_bb3b3_row1_col0\" class=\"data row1 col0\" >27.265957</td>\n",
       "      <td id=\"T_bb3b3_row1_col1\" class=\"data row1 col1\" >39.627426</td>\n",
       "      <td id=\"T_bb3b3_row1_col2\" class=\"data row1 col2\" >5.392128</td>\n",
       "      <td id=\"T_bb3b3_row1_col3\" class=\"data row1 col3\" >43.316296</td>\n",
       "      <td id=\"T_bb3b3_row1_col4\" class=\"data row1 col4\" >11770.638298</td>\n",
       "      <td id=\"T_bb3b3_row1_col5\" class=\"data row1 col5\" >8.593000</td>\n",
       "      <td id=\"T_bb3b3_row1_col6\" class=\"data row1 col6\" >72.274468</td>\n",
       "      <td id=\"T_bb3b3_row1_col7\" class=\"data row1 col7\" >2.505319</td>\n",
       "      <td id=\"T_bb3b3_row1_col8\" class=\"data row1 col8\" >5670.936170</td>\n",
       "    </tr>\n",
       "    <tr>\n",
       "      <th id=\"T_bb3b3_level0_row2\" class=\"row_heading level0 row2\" >2</th>\n",
       "      <td id=\"T_bb3b3_row2_col0\" class=\"data row2 col0\" >7.803774</td>\n",
       "      <td id=\"T_bb3b3_row2_col1\" class=\"data row2 col1\" >41.633962</td>\n",
       "      <td id=\"T_bb3b3_row2_col2\" class=\"data row2 col2\" >8.914151</td>\n",
       "      <td id=\"T_bb3b3_row2_col3\" class=\"data row2 col3\" >45.007547</td>\n",
       "      <td id=\"T_bb3b3_row2_col4\" class=\"data row2 col4\" >26651.320755</td>\n",
       "      <td id=\"T_bb3b3_row2_col5\" class=\"data row2 col5\" >2.446717</td>\n",
       "      <td id=\"T_bb3b3_row2_col6\" class=\"data row2 col6\" >77.869811</td>\n",
       "      <td id=\"T_bb3b3_row2_col7\" class=\"data row2 col7\" >1.665094</td>\n",
       "      <td id=\"T_bb3b3_row2_col8\" class=\"data row2 col8\" >25155.471698</td>\n",
       "    </tr>\n",
       "    <tr>\n",
       "      <th id=\"T_bb3b3_level0_row3\" class=\"row_heading level0 row3\" >3</th>\n",
       "      <td id=\"T_bb3b3_row3_col0\" class=\"data row3 col0\" >7.854545</td>\n",
       "      <td id=\"T_bb3b3_row3_col1\" class=\"data row3 col1\" >105.027273</td>\n",
       "      <td id=\"T_bb3b3_row3_col2\" class=\"data row3 col2\" >4.842727</td>\n",
       "      <td id=\"T_bb3b3_row3_col3\" class=\"data row3 col3\" >84.745455</td>\n",
       "      <td id=\"T_bb3b3_row3_col4\" class=\"data row3 col4\" >59890.909091</td>\n",
       "      <td id=\"T_bb3b3_row3_col5\" class=\"data row3 col5\" >5.642182</td>\n",
       "      <td id=\"T_bb3b3_row3_col6\" class=\"data row3 col6\" >78.172727</td>\n",
       "      <td id=\"T_bb3b3_row3_col7\" class=\"data row3 col7\" >1.878182</td>\n",
       "      <td id=\"T_bb3b3_row3_col8\" class=\"data row3 col8\" >40097.272727</td>\n",
       "    </tr>\n",
       "  </tbody>\n",
       "</table>\n"
      ],
      "text/plain": [
       "<pandas.io.formats.style.Styler at 0x1e0f3e61b50>"
      ]
     },
     "execution_count": 74,
     "metadata": {},
     "output_type": "execute_result"
    }
   ],
   "source": [
    "mean.style.highlight_min(color=\"red\")"
   ]
  },
  {
   "cell_type": "markdown",
   "metadata": {
    "id": "OzLXS0bClEfI"
   },
   "source": [
    "**Observations:**\n",
    "\n",
    "It looks like Cluster 1 is of very rich countries with high income and gdpp, Cluster 0 is of very poor countries with low income and gdp and the rest are in cluster 2. So intuitively this makes sense but let's try to visualize the boxplots of different attributes for each cluster to see if we can spot some more granular patterns.  "
   ]
  },
  {
   "cell_type": "markdown",
   "metadata": {
    "id": "HbwR-A_hlEfK"
   },
   "source": [
    "**Cluster Profiles:**\n",
    "\n",
    "- This clustering solution looks very similar to the last one created using K-Medoids with one cluster of 'rich' countries, one of 'poor' and one of 'all others'. But on a closer look, we can identify some important differences in this solution using GMM\n",
    "- Cluster 1 seems to be of 'developed' countries but this time the median values for all key indicators have all improved in comparison to the same cluster obtained from K-Medoids with higher GDP per capita, higher income, higher exports and imports and marginally higher life expectancy. At the same time, it has lower inflation, lower child mortality, lower fertility as well. Overall, we can say that this cluster has become more 'pure' in comparison to the one from K-Medoids.\n",
    "\n",
    "- Cluster 0 - Seems to be the one of 'underdeveloped' countries but this time the median values for various factors have all improved in comparison to the K-Medoids solution. For e.g., it has higher GDP per capita, higher income per person, higher exports and imports, and slightly better health expenditure and life expectancy.  This means that this cluster of 'underdeveloped' countries has become less 'pure'\n",
    "\n",
    "- Both of the above points can give an idea of what might have happened to the third cluster i.e. Cluster 2. It was a mix of 'underdeveloped'& 'developing' countries and continues to be so, but some countries on the rich end of the spectrum seemed to have moved to cluster 1, and some countries on the 'underdeveloped' end have moved to the last cluster, thereby reducing itself in size and resulting in different profiles for all clusters. \n",
    "\n",
    "Overall, this is a more evenly distributed clustering solution but thereby reducing the 'uniqueness' of the two extreme clusters.\n"
   ]
  },
  {
   "cell_type": "markdown",
   "metadata": {
    "id": "VwRicGkd37AW"
   },
   "source": [
    "## Conclusion\n",
    "Choice of algorithm here will depend on the context and use case. But purely based on foundations of 'what good clustering looks like', one can propose K-Medoids as it has more distinct extreme clusters of developing and underdeveloped countries. "
   ]
  }
 ],
 "metadata": {
  "colab": {
   "collapsed_sections": [],
   "name": "Practice_Case_Study_Clustering (1).ipynb",
   "provenance": []
  },
  "kernelspec": {
   "display_name": "Python 3 (ipykernel)",
   "language": "python",
   "name": "python3"
  },
  "language_info": {
   "codemirror_mode": {
    "name": "ipython",
    "version": 3
   },
   "file_extension": ".py",
   "mimetype": "text/x-python",
   "name": "python",
   "nbconvert_exporter": "python",
   "pygments_lexer": "ipython3",
   "version": "3.9.12"
  }
 },
 "nbformat": 4,
 "nbformat_minor": 1
}
